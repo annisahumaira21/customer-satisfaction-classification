{
 "cells": [
  {
   "cell_type": "markdown",
   "metadata": {},
   "source": [
    "# Introduction"
   ]
  },
  {
   "cell_type": "markdown",
   "metadata": {},
   "source": [
    "##### Objective \n",
    "- make a model prediction to get insight what services need to be improved and impact on increasing customer satisfaction of Invistico Airlines."
   ]
  },
  {
   "cell_type": "markdown",
   "metadata": {},
   "source": [
    "##### Instruction\n",
    "- Data Understanding : analysis process to understand characteristic of data so that we can see overall picture of data.\n",
    "- Data Preparation : things we need to clean, fix or transform data so data is ready to enter modelling process.\n",
    "- Modelling : do experiments to some machine learning model.\n",
    "- Evaluation : By evaluating, quality of model will be maintained, so it can minimizing error of prediction results.\n",
    "- Insight : get some conclusion which help us to find out what services need to be improved."
   ]
  },
  {
   "cell_type": "markdown",
   "metadata": {},
   "source": [
    "## Libraries"
   ]
  },
  {
   "cell_type": "code",
   "execution_count": 37,
   "metadata": {},
   "outputs": [],
   "source": [
    "import warnings\n",
    "warnings.filterwarnings('ignore')\n",
    "\n",
    "import numpy as np\n",
    "import pandas as pd\n",
    "import seaborn as sns\n",
    "import matplotlib.pyplot as plt\n",
    "\n",
    "from sklearn.metrics import accuracy_score, precision_score, recall_score, f1_score\n",
    "from sklearn.metrics import roc_curve, auc\n",
    "\n",
    "\n",
    "def eval_classification(model, pred, xtrain, ytrain, xtest, ytest):\n",
    "    print('Accuracy Score (Test Set): %.2f' % accuracy_score(ytest, pred))\n",
    "    print('Precision Score (Test Set): %.2f' % precision_score(ytest, pred, pos_label=0))\n",
    "    print('Recall Score (Test Set): %.2f' % recall_score(ytest, pred, pos_label=0))\n",
    "    print('F1 Score (Test Set): %.2f' % f1_score(ytest, pred, pos_label=0))\n",
    "    \n",
    "    fpr, tpr, tresholds = roc_curve(ytest, pred, pos_label=0)\n",
    "    print('AUC Score (Test Set): %.2f' % auc(fpr, tpr))\n",
    "    \n",
    "def show_feature_importance(model):\n",
    "    feat_importances = pd.Series(model.feature_importances_, index=X.columns)\n",
    "    ax = feat_importances.nlargest(25).plot(kind='barh', figsize=(10, 8))\n",
    "    ax.invert_yaxis()\n",
    "\n",
    "    plt.xlabel('score')\n",
    "    plt.ylabel('feature')\n",
    "    plt.title('feature importance score')"
   ]
  },
  {
   "cell_type": "markdown",
   "metadata": {},
   "source": [
    "# Load and Describe Data"
   ]
  },
  {
   "cell_type": "markdown",
   "metadata": {},
   "source": [
    "in this project, we create our dataset into 3 different dataset:\n",
    "- data as the orginal data, used from exploratory data analysis (EDA) until ready to enter Modelling process\n",
    "- data_awal as comparison data before improvement of features (data already through EDA, Data Preprocessing, and drop several columns).\n",
    "- df_compare as data after improvement of features to see impact on the level of customer satisfaction (data already through EDA, Data Preprocessing, and drop several columns)."
   ]
  },
  {
   "cell_type": "markdown",
   "metadata": {},
   "source": [
    "## Load Data"
   ]
  },
  {
   "cell_type": "markdown",
   "metadata": {},
   "source": [
    "we load Invistico Airlines dataset and we see top 5 rows of data"
   ]
  },
  {
   "cell_type": "code",
   "execution_count": 38,
   "metadata": {},
   "outputs": [
    {
     "data": {
      "text/html": [
       "<div>\n",
       "<style scoped>\n",
       "    .dataframe tbody tr th:only-of-type {\n",
       "        vertical-align: middle;\n",
       "    }\n",
       "\n",
       "    .dataframe tbody tr th {\n",
       "        vertical-align: top;\n",
       "    }\n",
       "\n",
       "    .dataframe thead th {\n",
       "        text-align: right;\n",
       "    }\n",
       "</style>\n",
       "<table border=\"1\" class=\"dataframe\">\n",
       "  <thead>\n",
       "    <tr style=\"text-align: right;\">\n",
       "      <th></th>\n",
       "      <th>satisfaction</th>\n",
       "      <th>Gender</th>\n",
       "      <th>Customer Type</th>\n",
       "      <th>Age</th>\n",
       "      <th>Type of Travel</th>\n",
       "      <th>Class</th>\n",
       "      <th>Flight Distance</th>\n",
       "      <th>Seat comfort</th>\n",
       "      <th>Departure/Arrival time convenient</th>\n",
       "      <th>Food and drink</th>\n",
       "      <th>...</th>\n",
       "      <th>Online support</th>\n",
       "      <th>Ease of Online booking</th>\n",
       "      <th>On-board service</th>\n",
       "      <th>Leg room service</th>\n",
       "      <th>Baggage handling</th>\n",
       "      <th>Checkin service</th>\n",
       "      <th>Cleanliness</th>\n",
       "      <th>Online boarding</th>\n",
       "      <th>Departure Delay in Minutes</th>\n",
       "      <th>Arrival Delay in Minutes</th>\n",
       "    </tr>\n",
       "  </thead>\n",
       "  <tbody>\n",
       "    <tr>\n",
       "      <th>0</th>\n",
       "      <td>satisfied</td>\n",
       "      <td>Female</td>\n",
       "      <td>Loyal Customer</td>\n",
       "      <td>65</td>\n",
       "      <td>Personal Travel</td>\n",
       "      <td>Eco</td>\n",
       "      <td>265</td>\n",
       "      <td>0</td>\n",
       "      <td>0</td>\n",
       "      <td>0</td>\n",
       "      <td>...</td>\n",
       "      <td>2</td>\n",
       "      <td>3</td>\n",
       "      <td>3</td>\n",
       "      <td>0</td>\n",
       "      <td>3</td>\n",
       "      <td>5</td>\n",
       "      <td>3</td>\n",
       "      <td>2</td>\n",
       "      <td>0</td>\n",
       "      <td>0.0</td>\n",
       "    </tr>\n",
       "    <tr>\n",
       "      <th>1</th>\n",
       "      <td>satisfied</td>\n",
       "      <td>Male</td>\n",
       "      <td>Loyal Customer</td>\n",
       "      <td>47</td>\n",
       "      <td>Personal Travel</td>\n",
       "      <td>Business</td>\n",
       "      <td>2464</td>\n",
       "      <td>0</td>\n",
       "      <td>0</td>\n",
       "      <td>0</td>\n",
       "      <td>...</td>\n",
       "      <td>2</td>\n",
       "      <td>3</td>\n",
       "      <td>4</td>\n",
       "      <td>4</td>\n",
       "      <td>4</td>\n",
       "      <td>2</td>\n",
       "      <td>3</td>\n",
       "      <td>2</td>\n",
       "      <td>310</td>\n",
       "      <td>305.0</td>\n",
       "    </tr>\n",
       "    <tr>\n",
       "      <th>2</th>\n",
       "      <td>satisfied</td>\n",
       "      <td>Female</td>\n",
       "      <td>Loyal Customer</td>\n",
       "      <td>15</td>\n",
       "      <td>Personal Travel</td>\n",
       "      <td>Eco</td>\n",
       "      <td>2138</td>\n",
       "      <td>0</td>\n",
       "      <td>0</td>\n",
       "      <td>0</td>\n",
       "      <td>...</td>\n",
       "      <td>2</td>\n",
       "      <td>2</td>\n",
       "      <td>3</td>\n",
       "      <td>3</td>\n",
       "      <td>4</td>\n",
       "      <td>4</td>\n",
       "      <td>4</td>\n",
       "      <td>2</td>\n",
       "      <td>0</td>\n",
       "      <td>0.0</td>\n",
       "    </tr>\n",
       "    <tr>\n",
       "      <th>3</th>\n",
       "      <td>satisfied</td>\n",
       "      <td>Female</td>\n",
       "      <td>Loyal Customer</td>\n",
       "      <td>60</td>\n",
       "      <td>Personal Travel</td>\n",
       "      <td>Eco</td>\n",
       "      <td>623</td>\n",
       "      <td>0</td>\n",
       "      <td>0</td>\n",
       "      <td>0</td>\n",
       "      <td>...</td>\n",
       "      <td>3</td>\n",
       "      <td>1</td>\n",
       "      <td>1</td>\n",
       "      <td>0</td>\n",
       "      <td>1</td>\n",
       "      <td>4</td>\n",
       "      <td>1</td>\n",
       "      <td>3</td>\n",
       "      <td>0</td>\n",
       "      <td>0.0</td>\n",
       "    </tr>\n",
       "    <tr>\n",
       "      <th>4</th>\n",
       "      <td>satisfied</td>\n",
       "      <td>Female</td>\n",
       "      <td>Loyal Customer</td>\n",
       "      <td>70</td>\n",
       "      <td>Personal Travel</td>\n",
       "      <td>Eco</td>\n",
       "      <td>354</td>\n",
       "      <td>0</td>\n",
       "      <td>0</td>\n",
       "      <td>0</td>\n",
       "      <td>...</td>\n",
       "      <td>4</td>\n",
       "      <td>2</td>\n",
       "      <td>2</td>\n",
       "      <td>0</td>\n",
       "      <td>2</td>\n",
       "      <td>4</td>\n",
       "      <td>2</td>\n",
       "      <td>5</td>\n",
       "      <td>0</td>\n",
       "      <td>0.0</td>\n",
       "    </tr>\n",
       "  </tbody>\n",
       "</table>\n",
       "<p>5 rows × 23 columns</p>\n",
       "</div>"
      ],
      "text/plain": [
       "  satisfaction  Gender   Customer Type  Age   Type of Travel     Class  \\\n",
       "0    satisfied  Female  Loyal Customer   65  Personal Travel       Eco   \n",
       "1    satisfied    Male  Loyal Customer   47  Personal Travel  Business   \n",
       "2    satisfied  Female  Loyal Customer   15  Personal Travel       Eco   \n",
       "3    satisfied  Female  Loyal Customer   60  Personal Travel       Eco   \n",
       "4    satisfied  Female  Loyal Customer   70  Personal Travel       Eco   \n",
       "\n",
       "   Flight Distance  Seat comfort  Departure/Arrival time convenient  \\\n",
       "0              265             0                                  0   \n",
       "1             2464             0                                  0   \n",
       "2             2138             0                                  0   \n",
       "3              623             0                                  0   \n",
       "4              354             0                                  0   \n",
       "\n",
       "   Food and drink  ...  Online support  Ease of Online booking  \\\n",
       "0               0  ...               2                       3   \n",
       "1               0  ...               2                       3   \n",
       "2               0  ...               2                       2   \n",
       "3               0  ...               3                       1   \n",
       "4               0  ...               4                       2   \n",
       "\n",
       "   On-board service  Leg room service  Baggage handling  Checkin service  \\\n",
       "0                 3                 0                 3                5   \n",
       "1                 4                 4                 4                2   \n",
       "2                 3                 3                 4                4   \n",
       "3                 1                 0                 1                4   \n",
       "4                 2                 0                 2                4   \n",
       "\n",
       "   Cleanliness  Online boarding  Departure Delay in Minutes  \\\n",
       "0            3                2                           0   \n",
       "1            3                2                         310   \n",
       "2            4                2                           0   \n",
       "3            1                3                           0   \n",
       "4            2                5                           0   \n",
       "\n",
       "   Arrival Delay in Minutes  \n",
       "0                       0.0  \n",
       "1                     305.0  \n",
       "2                       0.0  \n",
       "3                       0.0  \n",
       "4                       0.0  \n",
       "\n",
       "[5 rows x 23 columns]"
      ]
     },
     "execution_count": 38,
     "metadata": {},
     "output_type": "execute_result"
    }
   ],
   "source": [
    "data = pd.read_csv('Invistico_Airline.csv')\n",
    "data.head()"
   ]
  },
  {
   "cell_type": "markdown",
   "metadata": {},
   "source": [
    "# Exploratory Data Analysis (EDA)"
   ]
  },
  {
   "cell_type": "markdown",
   "metadata": {},
   "source": [
    "#### Describe Data"
   ]
  },
  {
   "cell_type": "code",
   "execution_count": 3,
   "metadata": {},
   "outputs": [
    {
     "name": "stdout",
     "output_type": "stream",
     "text": [
      "<class 'pandas.core.frame.DataFrame'>\n",
      "RangeIndex: 129880 entries, 0 to 129879\n",
      "Data columns (total 23 columns):\n",
      " #   Column                             Non-Null Count   Dtype  \n",
      "---  ------                             --------------   -----  \n",
      " 0   satisfaction                       129880 non-null  object \n",
      " 1   Gender                             129880 non-null  object \n",
      " 2   Customer Type                      129880 non-null  object \n",
      " 3   Age                                129880 non-null  int64  \n",
      " 4   Type of Travel                     129880 non-null  object \n",
      " 5   Class                              129880 non-null  object \n",
      " 6   Flight Distance                    129880 non-null  int64  \n",
      " 7   Seat comfort                       129880 non-null  int64  \n",
      " 8   Departure/Arrival time convenient  129880 non-null  int64  \n",
      " 9   Food and drink                     129880 non-null  int64  \n",
      " 10  Gate location                      129880 non-null  int64  \n",
      " 11  Inflight wifi service              129880 non-null  int64  \n",
      " 12  Inflight entertainment             129880 non-null  int64  \n",
      " 13  Online support                     129880 non-null  int64  \n",
      " 14  Ease of Online booking             129880 non-null  int64  \n",
      " 15  On-board service                   129880 non-null  int64  \n",
      " 16  Leg room service                   129880 non-null  int64  \n",
      " 17  Baggage handling                   129880 non-null  int64  \n",
      " 18  Checkin service                    129880 non-null  int64  \n",
      " 19  Cleanliness                        129880 non-null  int64  \n",
      " 20  Online boarding                    129880 non-null  int64  \n",
      " 21  Departure Delay in Minutes         129880 non-null  int64  \n",
      " 22  Arrival Delay in Minutes           129487 non-null  float64\n",
      "dtypes: float64(1), int64(17), object(5)\n",
      "memory usage: 22.8+ MB\n"
     ]
    }
   ],
   "source": [
    "data.info()"
   ]
  },
  {
   "cell_type": "markdown",
   "metadata": {},
   "source": [
    "- total row = 129880\n",
    "- total feature = 23"
   ]
  },
  {
   "cell_type": "code",
   "execution_count": 4,
   "metadata": {},
   "outputs": [
    {
     "data": {
      "text/html": [
       "<div>\n",
       "<style scoped>\n",
       "    .dataframe tbody tr th:only-of-type {\n",
       "        vertical-align: middle;\n",
       "    }\n",
       "\n",
       "    .dataframe tbody tr th {\n",
       "        vertical-align: top;\n",
       "    }\n",
       "\n",
       "    .dataframe thead th {\n",
       "        text-align: right;\n",
       "    }\n",
       "</style>\n",
       "<table border=\"1\" class=\"dataframe\">\n",
       "  <thead>\n",
       "    <tr style=\"text-align: right;\">\n",
       "      <th></th>\n",
       "      <th>Age</th>\n",
       "      <th>Flight Distance</th>\n",
       "      <th>Seat comfort</th>\n",
       "      <th>Departure/Arrival time convenient</th>\n",
       "      <th>Food and drink</th>\n",
       "      <th>Gate location</th>\n",
       "      <th>Inflight wifi service</th>\n",
       "      <th>Inflight entertainment</th>\n",
       "      <th>Online support</th>\n",
       "      <th>Ease of Online booking</th>\n",
       "      <th>On-board service</th>\n",
       "      <th>Leg room service</th>\n",
       "      <th>Baggage handling</th>\n",
       "      <th>Checkin service</th>\n",
       "      <th>Cleanliness</th>\n",
       "      <th>Online boarding</th>\n",
       "      <th>Departure Delay in Minutes</th>\n",
       "      <th>Arrival Delay in Minutes</th>\n",
       "    </tr>\n",
       "  </thead>\n",
       "  <tbody>\n",
       "    <tr>\n",
       "      <th>count</th>\n",
       "      <td>129880.000000</td>\n",
       "      <td>129880.000000</td>\n",
       "      <td>129880.000000</td>\n",
       "      <td>129880.000000</td>\n",
       "      <td>129880.000000</td>\n",
       "      <td>129880.000000</td>\n",
       "      <td>129880.000000</td>\n",
       "      <td>129880.000000</td>\n",
       "      <td>129880.000000</td>\n",
       "      <td>129880.000000</td>\n",
       "      <td>129880.000000</td>\n",
       "      <td>129880.000000</td>\n",
       "      <td>129880.000000</td>\n",
       "      <td>129880.000000</td>\n",
       "      <td>129880.000000</td>\n",
       "      <td>129880.000000</td>\n",
       "      <td>129880.000000</td>\n",
       "      <td>129487.000000</td>\n",
       "    </tr>\n",
       "    <tr>\n",
       "      <th>mean</th>\n",
       "      <td>39.427957</td>\n",
       "      <td>1981.409055</td>\n",
       "      <td>2.838597</td>\n",
       "      <td>2.990645</td>\n",
       "      <td>2.851994</td>\n",
       "      <td>2.990422</td>\n",
       "      <td>3.249130</td>\n",
       "      <td>3.383477</td>\n",
       "      <td>3.519703</td>\n",
       "      <td>3.472105</td>\n",
       "      <td>3.465075</td>\n",
       "      <td>3.485902</td>\n",
       "      <td>3.695673</td>\n",
       "      <td>3.340807</td>\n",
       "      <td>3.705759</td>\n",
       "      <td>3.352587</td>\n",
       "      <td>14.713713</td>\n",
       "      <td>15.091129</td>\n",
       "    </tr>\n",
       "    <tr>\n",
       "      <th>std</th>\n",
       "      <td>15.119360</td>\n",
       "      <td>1027.115606</td>\n",
       "      <td>1.392983</td>\n",
       "      <td>1.527224</td>\n",
       "      <td>1.443729</td>\n",
       "      <td>1.305970</td>\n",
       "      <td>1.318818</td>\n",
       "      <td>1.346059</td>\n",
       "      <td>1.306511</td>\n",
       "      <td>1.305560</td>\n",
       "      <td>1.270836</td>\n",
       "      <td>1.292226</td>\n",
       "      <td>1.156483</td>\n",
       "      <td>1.260582</td>\n",
       "      <td>1.151774</td>\n",
       "      <td>1.298715</td>\n",
       "      <td>38.071126</td>\n",
       "      <td>38.465650</td>\n",
       "    </tr>\n",
       "    <tr>\n",
       "      <th>min</th>\n",
       "      <td>7.000000</td>\n",
       "      <td>50.000000</td>\n",
       "      <td>0.000000</td>\n",
       "      <td>0.000000</td>\n",
       "      <td>0.000000</td>\n",
       "      <td>0.000000</td>\n",
       "      <td>0.000000</td>\n",
       "      <td>0.000000</td>\n",
       "      <td>0.000000</td>\n",
       "      <td>0.000000</td>\n",
       "      <td>0.000000</td>\n",
       "      <td>0.000000</td>\n",
       "      <td>1.000000</td>\n",
       "      <td>0.000000</td>\n",
       "      <td>0.000000</td>\n",
       "      <td>0.000000</td>\n",
       "      <td>0.000000</td>\n",
       "      <td>0.000000</td>\n",
       "    </tr>\n",
       "    <tr>\n",
       "      <th>25%</th>\n",
       "      <td>27.000000</td>\n",
       "      <td>1359.000000</td>\n",
       "      <td>2.000000</td>\n",
       "      <td>2.000000</td>\n",
       "      <td>2.000000</td>\n",
       "      <td>2.000000</td>\n",
       "      <td>2.000000</td>\n",
       "      <td>2.000000</td>\n",
       "      <td>3.000000</td>\n",
       "      <td>2.000000</td>\n",
       "      <td>3.000000</td>\n",
       "      <td>2.000000</td>\n",
       "      <td>3.000000</td>\n",
       "      <td>3.000000</td>\n",
       "      <td>3.000000</td>\n",
       "      <td>2.000000</td>\n",
       "      <td>0.000000</td>\n",
       "      <td>0.000000</td>\n",
       "    </tr>\n",
       "    <tr>\n",
       "      <th>50%</th>\n",
       "      <td>40.000000</td>\n",
       "      <td>1925.000000</td>\n",
       "      <td>3.000000</td>\n",
       "      <td>3.000000</td>\n",
       "      <td>3.000000</td>\n",
       "      <td>3.000000</td>\n",
       "      <td>3.000000</td>\n",
       "      <td>4.000000</td>\n",
       "      <td>4.000000</td>\n",
       "      <td>4.000000</td>\n",
       "      <td>4.000000</td>\n",
       "      <td>4.000000</td>\n",
       "      <td>4.000000</td>\n",
       "      <td>3.000000</td>\n",
       "      <td>4.000000</td>\n",
       "      <td>4.000000</td>\n",
       "      <td>0.000000</td>\n",
       "      <td>0.000000</td>\n",
       "    </tr>\n",
       "    <tr>\n",
       "      <th>75%</th>\n",
       "      <td>51.000000</td>\n",
       "      <td>2544.000000</td>\n",
       "      <td>4.000000</td>\n",
       "      <td>4.000000</td>\n",
       "      <td>4.000000</td>\n",
       "      <td>4.000000</td>\n",
       "      <td>4.000000</td>\n",
       "      <td>4.000000</td>\n",
       "      <td>5.000000</td>\n",
       "      <td>5.000000</td>\n",
       "      <td>4.000000</td>\n",
       "      <td>5.000000</td>\n",
       "      <td>5.000000</td>\n",
       "      <td>4.000000</td>\n",
       "      <td>5.000000</td>\n",
       "      <td>4.000000</td>\n",
       "      <td>12.000000</td>\n",
       "      <td>13.000000</td>\n",
       "    </tr>\n",
       "    <tr>\n",
       "      <th>max</th>\n",
       "      <td>85.000000</td>\n",
       "      <td>6951.000000</td>\n",
       "      <td>5.000000</td>\n",
       "      <td>5.000000</td>\n",
       "      <td>5.000000</td>\n",
       "      <td>5.000000</td>\n",
       "      <td>5.000000</td>\n",
       "      <td>5.000000</td>\n",
       "      <td>5.000000</td>\n",
       "      <td>5.000000</td>\n",
       "      <td>5.000000</td>\n",
       "      <td>5.000000</td>\n",
       "      <td>5.000000</td>\n",
       "      <td>5.000000</td>\n",
       "      <td>5.000000</td>\n",
       "      <td>5.000000</td>\n",
       "      <td>1592.000000</td>\n",
       "      <td>1584.000000</td>\n",
       "    </tr>\n",
       "  </tbody>\n",
       "</table>\n",
       "</div>"
      ],
      "text/plain": [
       "                 Age  Flight Distance   Seat comfort  \\\n",
       "count  129880.000000    129880.000000  129880.000000   \n",
       "mean       39.427957      1981.409055       2.838597   \n",
       "std        15.119360      1027.115606       1.392983   \n",
       "min         7.000000        50.000000       0.000000   \n",
       "25%        27.000000      1359.000000       2.000000   \n",
       "50%        40.000000      1925.000000       3.000000   \n",
       "75%        51.000000      2544.000000       4.000000   \n",
       "max        85.000000      6951.000000       5.000000   \n",
       "\n",
       "       Departure/Arrival time convenient  Food and drink  Gate location  \\\n",
       "count                      129880.000000   129880.000000  129880.000000   \n",
       "mean                            2.990645        2.851994       2.990422   \n",
       "std                             1.527224        1.443729       1.305970   \n",
       "min                             0.000000        0.000000       0.000000   \n",
       "25%                             2.000000        2.000000       2.000000   \n",
       "50%                             3.000000        3.000000       3.000000   \n",
       "75%                             4.000000        4.000000       4.000000   \n",
       "max                             5.000000        5.000000       5.000000   \n",
       "\n",
       "       Inflight wifi service  Inflight entertainment  Online support  \\\n",
       "count          129880.000000           129880.000000   129880.000000   \n",
       "mean                3.249130                3.383477        3.519703   \n",
       "std                 1.318818                1.346059        1.306511   \n",
       "min                 0.000000                0.000000        0.000000   \n",
       "25%                 2.000000                2.000000        3.000000   \n",
       "50%                 3.000000                4.000000        4.000000   \n",
       "75%                 4.000000                4.000000        5.000000   \n",
       "max                 5.000000                5.000000        5.000000   \n",
       "\n",
       "       Ease of Online booking  On-board service  Leg room service  \\\n",
       "count           129880.000000     129880.000000     129880.000000   \n",
       "mean                 3.472105          3.465075          3.485902   \n",
       "std                  1.305560          1.270836          1.292226   \n",
       "min                  0.000000          0.000000          0.000000   \n",
       "25%                  2.000000          3.000000          2.000000   \n",
       "50%                  4.000000          4.000000          4.000000   \n",
       "75%                  5.000000          4.000000          5.000000   \n",
       "max                  5.000000          5.000000          5.000000   \n",
       "\n",
       "       Baggage handling  Checkin service    Cleanliness  Online boarding  \\\n",
       "count     129880.000000    129880.000000  129880.000000    129880.000000   \n",
       "mean           3.695673         3.340807       3.705759         3.352587   \n",
       "std            1.156483         1.260582       1.151774         1.298715   \n",
       "min            1.000000         0.000000       0.000000         0.000000   \n",
       "25%            3.000000         3.000000       3.000000         2.000000   \n",
       "50%            4.000000         3.000000       4.000000         4.000000   \n",
       "75%            5.000000         4.000000       5.000000         4.000000   \n",
       "max            5.000000         5.000000       5.000000         5.000000   \n",
       "\n",
       "       Departure Delay in Minutes  Arrival Delay in Minutes  \n",
       "count               129880.000000             129487.000000  \n",
       "mean                    14.713713                 15.091129  \n",
       "std                     38.071126                 38.465650  \n",
       "min                      0.000000                  0.000000  \n",
       "25%                      0.000000                  0.000000  \n",
       "50%                      0.000000                  0.000000  \n",
       "75%                     12.000000                 13.000000  \n",
       "max                   1592.000000               1584.000000  "
      ]
     },
     "execution_count": 4,
     "metadata": {},
     "output_type": "execute_result"
    }
   ],
   "source": [
    "data.describe()"
   ]
  },
  {
   "cell_type": "markdown",
   "metadata": {},
   "source": [
    "#### Check Null and Missing Values"
   ]
  },
  {
   "cell_type": "code",
   "execution_count": 5,
   "metadata": {},
   "outputs": [
    {
     "data": {
      "text/plain": [
       "satisfaction                           0\n",
       "Gender                                 0\n",
       "Customer Type                          0\n",
       "Age                                    0\n",
       "Type of Travel                         0\n",
       "Class                                  0\n",
       "Flight Distance                        0\n",
       "Seat comfort                           0\n",
       "Departure/Arrival time convenient      0\n",
       "Food and drink                         0\n",
       "Gate location                          0\n",
       "Inflight wifi service                  0\n",
       "Inflight entertainment                 0\n",
       "Online support                         0\n",
       "Ease of Online booking                 0\n",
       "On-board service                       0\n",
       "Leg room service                       0\n",
       "Baggage handling                       0\n",
       "Checkin service                        0\n",
       "Cleanliness                            0\n",
       "Online boarding                        0\n",
       "Departure Delay in Minutes             0\n",
       "Arrival Delay in Minutes             393\n",
       "dtype: int64"
      ]
     },
     "execution_count": 5,
     "metadata": {},
     "output_type": "execute_result"
    }
   ],
   "source": [
    "data.isnull().sum()"
   ]
  },
  {
   "cell_type": "markdown",
   "metadata": {},
   "source": [
    "#### check duplicated data"
   ]
  },
  {
   "cell_type": "code",
   "execution_count": 6,
   "metadata": {},
   "outputs": [
    {
     "data": {
      "text/plain": [
       "0"
      ]
     },
     "execution_count": 6,
     "metadata": {},
     "output_type": "execute_result"
    }
   ],
   "source": [
    "data.duplicated().sum()"
   ]
  },
  {
   "cell_type": "markdown",
   "metadata": {},
   "source": [
    "**percentage of satisfied and dissatisfied customer of Invistico Airlines**"
   ]
  },
  {
   "cell_type": "code",
   "execution_count": 60,
   "metadata": {},
   "outputs": [
    {
     "data": {
      "text/html": [
       "<div>\n",
       "<style scoped>\n",
       "    .dataframe tbody tr th:only-of-type {\n",
       "        vertical-align: middle;\n",
       "    }\n",
       "\n",
       "    .dataframe tbody tr th {\n",
       "        vertical-align: top;\n",
       "    }\n",
       "\n",
       "    .dataframe thead th {\n",
       "        text-align: right;\n",
       "    }\n",
       "</style>\n",
       "<table border=\"1\" class=\"dataframe\">\n",
       "  <thead>\n",
       "    <tr style=\"text-align: right;\">\n",
       "      <th></th>\n",
       "      <th>satisfaction</th>\n",
       "      <th>percentage</th>\n",
       "    </tr>\n",
       "    <tr>\n",
       "      <th>satisfaction</th>\n",
       "      <th></th>\n",
       "      <th></th>\n",
       "    </tr>\n",
       "  </thead>\n",
       "  <tbody>\n",
       "    <tr>\n",
       "      <th>satisfied</th>\n",
       "      <td>71087</td>\n",
       "      <td>54.73</td>\n",
       "    </tr>\n",
       "    <tr>\n",
       "      <th>dissatisfied</th>\n",
       "      <td>58793</td>\n",
       "      <td>45.27</td>\n",
       "    </tr>\n",
       "  </tbody>\n",
       "</table>\n",
       "</div>"
      ],
      "text/plain": [
       "              satisfaction  percentage\n",
       "satisfaction                          \n",
       "satisfied            71087       54.73\n",
       "dissatisfied         58793       45.27"
      ]
     },
     "execution_count": 60,
     "metadata": {},
     "output_type": "execute_result"
    }
   ],
   "source": [
    "data_satisfaction = data.groupby(['satisfaction'])[['satisfaction']].count()\n",
    "data_satisfaction['percentage'] = round((data_satisfaction/len(data))*100,2)\n",
    "data_satisfaction = data_satisfaction.sort_values('percentage', ascending=False)\n",
    "data_satisfaction"
   ]
  },
  {
   "cell_type": "markdown",
   "metadata": {},
   "source": [
    "dissatisfied rate reached 45% of total customers"
   ]
  },
  {
   "cell_type": "markdown",
   "metadata": {},
   "source": [
    "**check distribution of customers based on type of travel and class**"
   ]
  },
  {
   "cell_type": "code",
   "execution_count": 12,
   "metadata": {},
   "outputs": [
    {
     "data": {
      "image/png": "[encoded data removed]",
      "text/plain": [
       "<Figure size 576x360 with 1 Axes>"
      ]
     },
     "metadata": {
      "needs_background": "light"
     },
     "output_type": "display_data"
    }
   ],
   "source": [
    "data1 = data.groupby(['Type of Travel', 'Class'])['satisfaction'].count().reset_index().sort_values('satisfaction', ascending=False)\n",
    "total_customer = data1.pivot_table(index='Type of Travel', columns='Class', values='satisfaction')\n",
    "total_customer.plot(kind='barh',figsize=(8,5), color =['cornflowerblue', 'mediumpurple', 'orange']);\n",
    "plt.title ('Total customer based on type of travel and class', fontsize=16, fontweight = 'bold')\n",
    "plt.xlabel('Total Customer', fontsize = 14)\n",
    "plt.ylabel('Type of Travel', fontsize=14)\n",
    "plt.tick_params(axis='both', which ='major', labelsize=12)\n",
    "plt.tight_layout()"
   ]
  },
  {
   "cell_type": "markdown",
   "metadata": {},
   "source": [
    "Top 3 :\n",
    "- Business travel - business class\n",
    "- Personal travel - eco class\n",
    "- Business travel - eco class"
   ]
  },
  {
   "cell_type": "markdown",
   "metadata": {},
   "source": [
    "**check distribution of dissatisfied customer based on type of travel and class**"
   ]
  },
  {
   "cell_type": "code",
   "execution_count": 7,
   "metadata": {},
   "outputs": [],
   "source": [
    "dissatisfied = data[data['satisfaction'] == 'dissatisfied']"
   ]
  },
  {
   "cell_type": "code",
   "execution_count": 8,
   "metadata": {},
   "outputs": [
    {
     "data": {
      "text/html": [
       "<div>\n",
       "<style scoped>\n",
       "    .dataframe tbody tr th:only-of-type {\n",
       "        vertical-align: middle;\n",
       "    }\n",
       "\n",
       "    .dataframe tbody tr th {\n",
       "        vertical-align: top;\n",
       "    }\n",
       "\n",
       "    .dataframe thead th {\n",
       "        text-align: right;\n",
       "    }\n",
       "</style>\n",
       "<table border=\"1\" class=\"dataframe\">\n",
       "  <thead>\n",
       "    <tr style=\"text-align: right;\">\n",
       "      <th></th>\n",
       "      <th>Type of Travel</th>\n",
       "      <th>Class</th>\n",
       "      <th>dissatisfaction</th>\n",
       "    </tr>\n",
       "  </thead>\n",
       "  <tbody>\n",
       "    <tr>\n",
       "      <th>1</th>\n",
       "      <td>Business travel</td>\n",
       "      <td>Eco</td>\n",
       "      <td>17726</td>\n",
       "    </tr>\n",
       "    <tr>\n",
       "      <th>4</th>\n",
       "      <td>Personal Travel</td>\n",
       "      <td>Eco</td>\n",
       "      <td>17610</td>\n",
       "    </tr>\n",
       "    <tr>\n",
       "      <th>0</th>\n",
       "      <td>Business travel</td>\n",
       "      <td>Business</td>\n",
       "      <td>16634</td>\n",
       "    </tr>\n",
       "    <tr>\n",
       "      <th>2</th>\n",
       "      <td>Business travel</td>\n",
       "      <td>Eco Plus</td>\n",
       "      <td>2977</td>\n",
       "    </tr>\n",
       "    <tr>\n",
       "      <th>5</th>\n",
       "      <td>Personal Travel</td>\n",
       "      <td>Eco Plus</td>\n",
       "      <td>2415</td>\n",
       "    </tr>\n",
       "    <tr>\n",
       "      <th>3</th>\n",
       "      <td>Personal Travel</td>\n",
       "      <td>Business</td>\n",
       "      <td>1431</td>\n",
       "    </tr>\n",
       "  </tbody>\n",
       "</table>\n",
       "</div>"
      ],
      "text/plain": [
       "    Type of Travel     Class  dissatisfaction\n",
       "1  Business travel       Eco            17726\n",
       "4  Personal Travel       Eco            17610\n",
       "0  Business travel  Business            16634\n",
       "2  Business travel  Eco Plus             2977\n",
       "5  Personal Travel  Eco Plus             2415\n",
       "3  Personal Travel  Business             1431"
      ]
     },
     "execution_count": 8,
     "metadata": {},
     "output_type": "execute_result"
    }
   ],
   "source": [
    "data_dissatisfied = dissatisfied.groupby(['Type of Travel', 'Class'])['satisfaction'].count().reset_index(name='dissatisfaction').sort_values('dissatisfaction', ascending=False)\n",
    "data_dissatisfied"
   ]
  },
  {
   "cell_type": "code",
   "execution_count": 13,
   "metadata": {},
   "outputs": [
    {
     "data": {
      "image/png": "[encoded data removed]",
      "text/plain": [
       "<Figure size 576x360 with 1 Axes>"
      ]
     },
     "metadata": {
      "needs_background": "light"
     },
     "output_type": "display_data"
    }
   ],
   "source": [
    "data_dissatisfied = dissatisfied.groupby(['Type of Travel', 'Class'])['satisfaction'].count().reset_index(name='dissatisfaction').sort_values('dissatisfaction', ascending=False)\n",
    "total_dissatisfied = data_dissatisfied.pivot_table(index='Type of Travel', columns='Class', values='dissatisfaction')\n",
    "total_dissatisfied.plot(kind='barh',figsize=(8,5), color =['cornflowerblue', 'mediumpurple', 'orange']);\n",
    "plt.title('Total dissatisfied customer based on type of travel and class', fontsize = 16, fontweight='bold')\n",
    "plt.xlabel('Total Customer', fontsize=14)\n",
    "plt.ylabel('Type of Travel', fontsize=14)\n",
    "plt.tick_params(axis='both', which='major', labelsize=12)\n",
    "plt.tight_layout()"
   ]
  },
  {
   "cell_type": "markdown",
   "metadata": {},
   "source": [
    "most dissatisfied customer:\n",
    "- Bussiness travel - Eco Class\n",
    "- Personal travel - Eco Class"
   ]
  },
  {
   "cell_type": "markdown",
   "metadata": {},
   "source": [
    "Based on the conclusion above, Business travel - Eco Class and Personal Travel - Eco Class have most dissatisfied customer and also at top 2 and top 3 user using this travel and class, so we will focus on these segments to increase satisfaction rate."
   ]
  },
  {
   "cell_type": "markdown",
   "metadata": {},
   "source": [
    "**Correlation Feature between services and satisfaction rate of customers**"
   ]
  },
  {
   "cell_type": "markdown",
   "metadata": {},
   "source": [
    "1. Business Travel - Eco Class"
   ]
  },
  {
   "cell_type": "code",
   "execution_count": 21,
   "metadata": {},
   "outputs": [
    {
     "data": {
      "image/png": "[encoded data removed]",
      "text/plain": [
       "<Figure size 576x432 with 1 Axes>"
      ]
     },
     "metadata": {},
     "output_type": "display_data"
    }
   ],
   "source": [
    "buss_eco = data[(data['Type of Travel'] == 'Business travel') & (data.Class == 'Eco')]\n",
    "buss_eco.corr()['satisfaction_label'].sort_values().drop('satisfaction_label').plot(kind='barh', figsize=(8,6));"
   ]
  },
  {
   "cell_type": "markdown",
   "metadata": {},
   "source": [
    "**conclusion** : the most correlated feature is **seat comfort**"
   ]
  },
  {
   "cell_type": "markdown",
   "metadata": {},
   "source": [
    "2. Personal Travel - Eco Class"
   ]
  },
  {
   "cell_type": "code",
   "execution_count": 22,
   "metadata": {},
   "outputs": [
    {
     "data": {
      "image/png": "[encoded data removed]",
      "text/plain": [
       "<Figure size 576x432 with 1 Axes>"
      ]
     },
     "metadata": {},
     "output_type": "display_data"
    }
   ],
   "source": [
    "pers_eco = data[(data['Type of Travel'] == 'Personal Travel') & (data.Class == 'Eco')]\n",
    "pers_eco.corr()['satisfaction_label'].sort_values().drop('satisfaction_label').plot(kind='barh', figsize=(8,6));"
   ]
  },
  {
   "cell_type": "markdown",
   "metadata": {},
   "source": [
    "**conclusion** : the most correlated feature is **inflight entertaiment**"
   ]
  },
  {
   "cell_type": "markdown",
   "metadata": {},
   "source": [
    "## Separated Numerical, Categorical, and Ordinal Data"
   ]
  },
  {
   "cell_type": "code",
   "execution_count": 14,
   "metadata": {},
   "outputs": [],
   "source": [
    "numerical= ['Flight Distance', 'Departure Delay in Minutes', 'Arrival Delay in Minutes']"
   ]
  },
  {
   "cell_type": "code",
   "execution_count": 15,
   "metadata": {},
   "outputs": [],
   "source": [
    "categorical = ['Gender', 'Customer Type', 'Type of Travel', 'Class']"
   ]
  },
  {
   "cell_type": "code",
   "execution_count": 16,
   "metadata": {},
   "outputs": [],
   "source": [
    "ordinal = ['Seat comfort', 'Departure/Arrival time convenient', 'Food and drink', 'Inflight wifi service', 'Inflight entertainment', 'Online support',\n",
    "          'Gate location', 'Ease of Online booking', 'On-board service', 'Leg room service', 'Baggage handling', 'Checkin service', 'Cleanliness', 'Online boarding']"
   ]
  },
  {
   "cell_type": "markdown",
   "metadata": {},
   "source": [
    "1. value counting of categorical data"
   ]
  },
  {
   "cell_type": "code",
   "execution_count": 65,
   "metadata": {},
   "outputs": [
    {
     "name": "stdout",
     "output_type": "stream",
     "text": [
      "Value count kolom Gender:\n",
      "Female    65899\n",
      "Male      63981\n",
      "Name: Gender, dtype: int64\n",
      "\n",
      "Value count kolom Customer Type:\n",
      "Loyal Customer       106100\n",
      "disloyal Customer     23780\n",
      "Name: Customer Type, dtype: int64\n",
      "\n",
      "Value count kolom Type of Travel:\n",
      "Business travel    89693\n",
      "Personal Travel    40187\n",
      "Name: Type of Travel, dtype: int64\n",
      "\n",
      "Value count kolom Class:\n",
      "Business    62160\n",
      "Eco         58309\n",
      "Eco Plus     9411\n",
      "Name: Class, dtype: int64\n",
      "\n"
     ]
    }
   ],
   "source": [
    "for col in categorical:\n",
    "    print(f'''Value count kolom {col}:''')\n",
    "    print(data[col].value_counts())\n",
    "    print()"
   ]
  },
  {
   "cell_type": "markdown",
   "metadata": {},
   "source": [
    "**conclusion** : \n",
    "- Gender has 2 unique values\n",
    "- Customer Type has 2 unique values\n",
    "- Type of Travel has 2 unique values\n",
    "- Class has 3 unique values"
   ]
  },
  {
   "cell_type": "markdown",
   "metadata": {},
   "source": [
    "2. value counting of ordinal data"
   ]
  },
  {
   "cell_type": "code",
   "execution_count": 64,
   "metadata": {},
   "outputs": [
    {
     "name": "stdout",
     "output_type": "stream",
     "text": [
      "Value count kolom Seat comfort:\n",
      "3    29183\n",
      "2    28726\n",
      "4    28398\n",
      "1    20949\n",
      "5    17827\n",
      "0     4797\n",
      "Name: Seat comfort, dtype: int64\n",
      "\n",
      "Value count kolom Departure/Arrival time convenient:\n",
      "4    29593\n",
      "5    26817\n",
      "3    23184\n",
      "2    22794\n",
      "1    20828\n",
      "0     6664\n",
      "Name: Departure/Arrival time convenient, dtype: int64\n",
      "\n",
      "Value count kolom Food and drink:\n",
      "3    28150\n",
      "4    27216\n",
      "2    27146\n",
      "1    21076\n",
      "5    20347\n",
      "0     5945\n",
      "Name: Food and drink, dtype: int64\n",
      "\n",
      "Value count kolom Inflight wifi service:\n",
      "4    31560\n",
      "5    28830\n",
      "3    27602\n",
      "2    27045\n",
      "1    14711\n",
      "0      132\n",
      "Name: Inflight wifi service, dtype: int64\n",
      "\n",
      "Value count kolom Inflight entertainment:\n",
      "4    41879\n",
      "5    29831\n",
      "3    24200\n",
      "2    19183\n",
      "1    11809\n",
      "0     2978\n",
      "Name: Inflight entertainment, dtype: int64\n",
      "\n",
      "Value count kolom Online support:\n",
      "4    41510\n",
      "5    35563\n",
      "3    21609\n",
      "2    17260\n",
      "1    13937\n",
      "0        1\n",
      "Name: Online support, dtype: int64\n",
      "\n",
      "Value count kolom Gate location:\n",
      "3    33546\n",
      "4    30088\n",
      "2    24518\n",
      "1    22565\n",
      "5    19161\n",
      "0        2\n",
      "Name: Gate location, dtype: int64\n",
      "\n",
      "Value count kolom Ease of Online booking:\n",
      "4    39920\n",
      "5    34137\n",
      "3    22418\n",
      "2    19951\n",
      "1    13436\n",
      "0       18\n",
      "Name: Ease of Online booking, dtype: int64\n",
      "\n",
      "Value count kolom On-board service:\n",
      "4    40675\n",
      "5    31724\n",
      "3    27037\n",
      "2    17174\n",
      "1    13265\n",
      "0        5\n",
      "Name: On-board service, dtype: int64\n",
      "\n",
      "Value count kolom Leg room service:\n",
      "4    39698\n",
      "5    34385\n",
      "3    22467\n",
      "2    21745\n",
      "1    11141\n",
      "0      444\n",
      "Name: Leg room service, dtype: int64\n",
      "\n",
      "Value count kolom Baggage handling:\n",
      "4    48240\n",
      "5    35748\n",
      "3    24485\n",
      "2    13432\n",
      "1     7975\n",
      "Name: Baggage handling, dtype: int64\n",
      "\n",
      "Value count kolom Checkin service:\n",
      "4    36481\n",
      "3    35538\n",
      "5    27005\n",
      "2    15486\n",
      "1    15369\n",
      "0        1\n",
      "Name: Checkin service, dtype: int64\n",
      "\n",
      "Value count kolom Cleanliness:\n",
      "4    48795\n",
      "5    35916\n",
      "3    23984\n",
      "2    13412\n",
      "1     7768\n",
      "0        5\n",
      "Name: Cleanliness, dtype: int64\n",
      "\n",
      "Value count kolom Online boarding:\n",
      "4    35181\n",
      "3    30780\n",
      "5    29973\n",
      "2    18573\n",
      "1    15359\n",
      "0       14\n",
      "Name: Online boarding, dtype: int64\n",
      "\n"
     ]
    }
   ],
   "source": [
    "for col in ordinal:\n",
    "    print(f'''Value count kolom {col}:''')\n",
    "    print(data[col].value_counts())\n",
    "    print()"
   ]
  },
  {
   "cell_type": "markdown",
   "metadata": {},
   "source": [
    "**conclusion** : there are several features have value 0, while for this rating we assume from 1-5. Therefore, we will give treatment for data with 0 value later."
   ]
  },
  {
   "cell_type": "markdown",
   "metadata": {},
   "source": [
    "## Graphical Approach"
   ]
  },
  {
   "cell_type": "markdown",
   "metadata": {},
   "source": [
    "### Univariate Analysis\n",
    "*Do data analysis for each feature separately, look the distrbution of data in details*"
   ]
  },
  {
   "cell_type": "markdown",
   "metadata": {},
   "source": [
    "1. distribution of numerical data"
   ]
  },
  {
   "cell_type": "code",
   "execution_count": 17,
   "metadata": {},
   "outputs": [
    {
     "data": {
      "image/png": "[encoded data removed]",
      "text/plain": [
       "<Figure size 1080x864 with 3 Axes>"
      ]
     },
     "metadata": {
      "needs_background": "light"
     },
     "output_type": "display_data"
    }
   ],
   "source": [
    "plt.figure(figsize=(15, 12))\n",
    "for i in range(0, len(numerical)):\n",
    "    plt.subplot(3, len(numerical), i+1)\n",
    "    sns.distplot(data[numerical[i]], color='blue')\n",
    "    plt.tight_layout()"
   ]
  },
  {
   "cell_type": "markdown",
   "metadata": {},
   "source": [
    "**conclusion** : the graph is positively skewed, then we will give treatment to change data distribution to be more normal."
   ]
  },
  {
   "cell_type": "markdown",
   "metadata": {},
   "source": [
    "### Multivariate Analysis\n",
    "*Analyze multiple columns at once to find relationships between columns*"
   ]
  },
  {
   "cell_type": "code",
   "execution_count": 53,
   "metadata": {},
   "outputs": [
    {
     "data": {
      "text/plain": [
       "<AxesSubplot:>"
      ]
     },
     "execution_count": 53,
     "metadata": {},
     "output_type": "execute_result"
    },
    {
     "data": {
      "image/png": "[encoded data removed]",
      "text/plain": [
       "<Figure size 864x576 with 2 Axes>"
      ]
     },
     "metadata": {},
     "output_type": "display_data"
    }
   ],
   "source": [
    "plt.figure(figsize=(12, 8))\n",
    "sns.heatmap(data.corr(), cmap='Blues', annot=True, fmt='.2f')"
   ]
  },
  {
   "cell_type": "markdown",
   "metadata": {},
   "source": [
    "**conclusion**: \n",
    "- Features that are highly correlated with the target(satisfaction_label) are inflight entertainment and ease of online booking\n",
    "- Features that have a strong correlation are arrival delay and departure delay. because the correlation is very high at 0.97, then one of the columns will be removed."
   ]
  },
  {
   "cell_type": "markdown",
   "metadata": {},
   "source": [
    "# Data Preprocessing"
   ]
  },
  {
   "cell_type": "markdown",
   "metadata": {},
   "source": [
    "#### Fix Missing Values"
   ]
  },
  {
   "cell_type": "code",
   "execution_count": 39,
   "metadata": {},
   "outputs": [],
   "source": [
    "data.dropna(inplace=True)"
   ]
  },
  {
   "cell_type": "markdown",
   "metadata": {},
   "source": [
    "we drop missing values in Arrival Delay in Minutes columns because it's only 0.3% of data."
   ]
  },
  {
   "cell_type": "markdown",
   "metadata": {},
   "source": [
    "#### change value 0 in the ordinal data to the mode in each column"
   ]
  },
  {
   "cell_type": "code",
   "execution_count": 40,
   "metadata": {},
   "outputs": [],
   "source": [
    "for col in ordinal:\n",
    "    modus = data[col].mode()[0]\n",
    "    data[col] = data[col].replace(0, modus)"
   ]
  },
  {
   "cell_type": "markdown",
   "metadata": {},
   "source": [
    "#### treatment outliers with log transfrom"
   ]
  },
  {
   "cell_type": "code",
   "execution_count": 41,
   "metadata": {},
   "outputs": [],
   "source": [
    "for var in numerical:\n",
    "    data[var]= (data[var]+1).apply(np.log)"
   ]
  },
  {
   "cell_type": "code",
   "execution_count": 78,
   "metadata": {},
   "outputs": [
    {
     "data": {
      "image/png": "[encoded data removed]",
      "text/plain": [
       "<Figure size 1080x864 with 3 Axes>"
      ]
     },
     "metadata": {},
     "output_type": "display_data"
    }
   ],
   "source": [
    "plt.figure(figsize=(15, 12))\n",
    "for i in range(0, len(numerical)):\n",
    "    plt.subplot(3, len(numerical), i+1)\n",
    "    sns.distplot(data[nums[i]], color='blue')\n",
    "    plt.tight_layout()"
   ]
  },
  {
   "cell_type": "markdown",
   "metadata": {},
   "source": [
    "**conclusion** : treatment for outliers has been carried out using log transformation and data distribution is slightly more normal."
   ]
  },
  {
   "cell_type": "markdown",
   "metadata": {},
   "source": [
    "## Feature Engineering"
   ]
  },
  {
   "cell_type": "markdown",
   "metadata": {},
   "source": [
    "### use one hot encoding for categorical data"
   ]
  },
  {
   "cell_type": "code",
   "execution_count": 42,
   "metadata": {},
   "outputs": [],
   "source": [
    "for cat in categorical:\n",
    "    onehots = pd.get_dummies(data[cat], prefix=cat)\n",
    "    data = data.join(onehots)"
   ]
  },
  {
   "cell_type": "markdown",
   "metadata": {},
   "source": [
    "# Machine Learning Modelling and Evaluation"
   ]
  },
  {
   "cell_type": "markdown",
   "metadata": {},
   "source": [
    "make new columns (satisfaction_label) use label encoding to change satisfaction column into numeric value.\n",
    "- 0 = dissatified\n",
    "- 1 = satisfied"
   ]
  },
  {
   "cell_type": "code",
   "execution_count": 43,
   "metadata": {},
   "outputs": [],
   "source": [
    "data['satisfaction_label'] = data['satisfaction'].astype('category').cat.codes"
   ]
  },
  {
   "cell_type": "markdown",
   "metadata": {},
   "source": [
    "## split data training dan data testing"
   ]
  },
  {
   "cell_type": "code",
   "execution_count": 44,
   "metadata": {},
   "outputs": [],
   "source": [
    "x = data.drop(columns=['satisfaction', 'Gender', 'Customer Type', 'Type of Travel', 'Class', 'Arrival Delay in Minutes', 'satisfaction_label'])\n",
    "y = data['satisfaction_label'] # target / label\n",
    "\n",
    "#Splitting the data into Train and Test\n",
    "from sklearn.model_selection import train_test_split \n",
    "xtrain, xtest, ytrain, ytest = train_test_split(x, y, test_size = 0.2, random_state = 42)\n",
    "\n",
    "#concat\n",
    "data_train = pd.concat([xtrain, ytrain], axis=1)\n",
    "data_test = pd.concat([xtest, ytest], axis=1)\n",
    "\n",
    "#standard\n",
    "from sklearn.preprocessing import RobustScaler\n",
    "scaler = RobustScaler()\n",
    "scaler.fit(data_train)\n",
    "std_train = scaler.transform(data_train)\n",
    "std_test = scaler.transform(data_test)\n",
    "\n",
    "#turn into dataframe\n",
    "std_train = pd.DataFrame(std_train, columns=data_train.columns)\n",
    "std_test = pd.DataFrame(std_test, columns=data_test.columns)\n",
    "\n",
    "#re-split data\n",
    "xtrain_std = std_train.drop('satisfaction_label', axis=1)\n",
    "ytrain_std = std_train.satisfaction_label\n",
    "xtest_std = std_test.drop('satisfaction_label', axis=1)\n",
    "ytest_std = std_test.satisfaction_label"
   ]
  },
  {
   "cell_type": "code",
   "execution_count": 45,
   "metadata": {},
   "outputs": [],
   "source": [
    "from sklearn.linear_model import LogisticRegression\n",
    "from sklearn.neighbors import KNeighborsClassifier\n",
    "from sklearn.tree import DecisionTreeClassifier\n",
    "from sklearn.ensemble import RandomForestClassifier\n",
    "from sklearn.ensemble import AdaBoostClassifier\n",
    "from xgboost import XGBClassifier"
   ]
  },
  {
   "cell_type": "code",
   "execution_count": 49,
   "metadata": {},
   "outputs": [
    {
     "name": "stdout",
     "output_type": "stream",
     "text": [
      "Evaluation Model Logreg\n",
      "Accuracy Score (Test Set): 0.85\n",
      "Precision Score (Test Set): 0.86\n",
      "Recall Score (Test Set): 0.88\n",
      "F1 Score (Test Set): 0.87\n",
      "AUC Score (Test Set): 0.85\n",
      "None \n",
      "\n",
      "Train score: 0.8524746836054021\n",
      "Test score:0.8533477488609159 \n",
      "\n",
      "Evaluation Model KNN\n",
      "Accuracy Score (Test Set): 0.92\n",
      "Precision Score (Test Set): 0.93\n",
      "Recall Score (Test Set): 0.92\n",
      "F1 Score (Test Set): 0.92\n",
      "AUC Score (Test Set): 0.92\n",
      "None \n",
      "\n",
      "Train score: 0.9412485881705587\n",
      "Test score:0.9181017839215383 \n",
      "\n",
      "Evaluation Model Decision Tree\n",
      "Accuracy Score (Test Set): 0.93\n",
      "Precision Score (Test Set): 0.94\n",
      "Recall Score (Test Set): 0.94\n",
      "F1 Score (Test Set): 0.94\n",
      "AUC Score (Test Set): 0.93\n",
      "None \n",
      "\n",
      "Train score: 1.0\n",
      "Test score:0.9344737045331686 \n",
      "\n",
      "Evaluation Model Ada Boost\n",
      "Accuracy Score (Test Set): 0.88\n",
      "Precision Score (Test Set): 0.89\n",
      "Recall Score (Test Set): 0.89\n",
      "F1 Score (Test Set): 0.89\n",
      "AUC Score (Test Set): 0.88\n",
      "None \n",
      "\n",
      "Train score: 0.881145681491278\n",
      "Test score:0.8821530620125106 \n",
      "\n",
      "Evaluation Model Random Forest\n",
      "Accuracy Score (Test Set): 0.96\n",
      "Precision Score (Test Set): 0.97\n",
      "Recall Score (Test Set): 0.95\n",
      "F1 Score (Test Set): 0.96\n",
      "AUC Score (Test Set): 0.96\n",
      "None \n",
      "\n",
      "Train score: 1.0\n",
      "Test score:0.9561356089273303 \n",
      "\n",
      "[11:20:11] WARNING: C:/Users/Administrator/workspace/xgboost-win64_release_1.4.0/src/learner.cc:1095: Starting in XGBoost 1.3.0, the default evaluation metric used with the objective 'binary:logistic' was changed from 'error' to 'logloss'. Explicitly set eval_metric if you'd like to restore the old behavior.\n",
      "Evaluation Model XGBoost\n",
      "Accuracy Score (Test Set): 0.96\n",
      "Precision Score (Test Set): 0.97\n",
      "Recall Score (Test Set): 0.95\n",
      "F1 Score (Test Set): 0.96\n",
      "AUC Score (Test Set): 0.96\n",
      "None \n",
      "\n",
      "Train score: 0.9683750205137611\n",
      "Test score:0.9570237083944706 \n",
      "\n"
     ]
    }
   ],
   "source": [
    "models = {\n",
    "    'Logreg' : LogisticRegression(),\n",
    "    'KNN' : KNeighborsClassifier(),\n",
    "    'Decision Tree' : DecisionTreeClassifier(),\n",
    "    'Ada Boost' : AdaBoostClassifier(),\n",
    "    'Random Forest' : RandomForestClassifier(),\n",
    "    'XGBoost' : XGBClassifier()\n",
    "}\n",
    "\n",
    "for model_name, model in models.items():\n",
    "    model.fit(xtrain_std, ytrain_std)\n",
    "    ypred = model.predict(xtest_std)\n",
    "    print('Evaluation Model {}'.format(model_name))\n",
    "    print(eval_classification(model, ypred, xtrain_std, ytrain_std, xtest_std, ytest_std), '\\n')\n",
    "    print('Train score: ' + str(model.score(xtrain_std, ytrain_std))) \n",
    "    print('Test score:' + str(model.score(xtest_std, ytest_std)), '\\n')"
   ]
  },
  {
   "cell_type": "markdown",
   "metadata": {},
   "source": [
    "**conclusion** : because model with highest precision value is Random Forest and XGBoost, 0.97. Next, we will do hyperparameter tuning for both models."
   ]
  },
  {
   "cell_type": "code",
   "execution_count": 52,
   "metadata": {},
   "outputs": [
    {
     "name": "stdout",
     "output_type": "stream",
     "text": [
      "Accuracy Score (Test Set): 0.85\n",
      "Precision Score (Test Set): 0.86\n",
      "Recall Score (Test Set): 0.88\n",
      "F1 Score (Test Set): 0.87\n",
      "AUC Score (Test Set): 0.85\n"
     ]
    }
   ],
   "source": [
    "from sklearn.linear_model import LogisticRegression\n",
    "#model = LogisticRegression(random_state=42)\n",
    "#model.fit(X_train, y_train)\n",
    "models['Logreg'].fit(xtrain_std, ytrain_std)\n",
    "ypred = models['Logreg'].predict(xtest_std)\n",
    "eval_classification(model, ypred, xtrain_std, ytrain_std, xtest_std, ytest_std)"
   ]
  },
  {
   "cell_type": "code",
   "execution_count": null,
   "metadata": {},
   "outputs": [],
   "source": []
  },
  {
   "cell_type": "markdown",
   "metadata": {},
   "source": [
    "## Hyperparameter Tuning Random Forest"
   ]
  },
  {
   "cell_type": "code",
   "execution_count": 99,
   "metadata": {},
   "outputs": [
    {
     "name": "stdout",
     "output_type": "stream",
     "text": [
      "Accuracy (Test Set): 0.96\n",
      "Precision (Test Set): 0.96\n",
      "Recall (Test Set): 0.95\n",
      "F1-Score (Test Set): 0.96\n",
      "AUC: 0.96\n"
     ]
    }
   ],
   "source": [
    "from sklearn.model_selection import RandomizedSearchCV, GridSearchCV\n",
    "\n",
    "#List Hyperparameters yang akan diuji\n",
    "hyperparameters = dict(\n",
    "                       n_estimators = [int(x) for x in np.linspace(start = 100, stop = 2000, num = 20)], # Jumlah subtree\n",
    "                       bootstrap = [True],\n",
    "                       criterion = ['gini','entropy'],\n",
    "                       max_depth = [int(x) for x in np.linspace(10, 110, num = 11)],  # Maximum kedalaman tree\n",
    "                       min_samples_split = [int(x) for x in np.linspace(start = 2, stop = 10, num = 5)], # Jumlah minimum samples pada node agar boleh di split menjadi leaf baru\n",
    "                       min_samples_leaf = [int(x) for x in np.linspace(start = 1, stop = 10, num = 5)], # Jumlah minimum samples pada leaf agar boleh terbentuk leaf baru\n",
    "                       max_features = ['auto', 'sqrt', 'log2'], # Jumlah feature yg dipertimbangkan pada masing-masing split\n",
    "                       n_jobs = [-1], # Core untuk parallel computation. -1 untuk menggunakan semua core\n",
    "                      )\n",
    "\n",
    "# Init\n",
    "rf = RandomForestClassifier(random_state=42)\n",
    "rf_tuned = RandomizedSearchCV(rf, hyperparameters, cv=5, random_state=42, scoring='precision')\n",
    "rf_tuned.fit(xtrain_std, ytrain_std)\n",
    "\n",
    "# Predict & Evaluation\n",
    "ypred = rf_tuned.predict(xtest_std)#Check performa dari model\n",
    "eval_classification(rf_tuned, ypred, xtrain_std, ytrain_std, xtest_std, ytest_std)"
   ]
  },
  {
   "cell_type": "markdown",
   "metadata": {},
   "source": [
    "##### accuracy score"
   ]
  },
  {
   "cell_type": "code",
   "execution_count": 100,
   "metadata": {},
   "outputs": [
    {
     "name": "stdout",
     "output_type": "stream",
     "text": [
      "Train score: 0.9994170538253635\n",
      "Test score:0.9643421998562185\n"
     ]
    }
   ],
   "source": [
    "print('Train score: ' + str(rf_tuned.score(xtrain_std, ytrain_std)) \n",
    "print('Test score:' + str(rf_tuned.score(xtest_std, ytest_std))) "
   ]
  },
  {
   "cell_type": "code",
   "execution_count": 101,
   "metadata": {},
   "outputs": [
    {
     "name": "stdout",
     "output_type": "stream",
     "text": [
      "Best n_estimators: 400\n",
      "Best criterion: gini\n",
      "Best max_depth: 110\n",
      "Best min_samples_split: 4\n",
      "Best min_samples_leaf: 1\n",
      "Best max_features: log2\n"
     ]
    }
   ],
   "source": [
    "print('Best n_estimators:', rf_tuned.best_estimator_.get_params()['n_estimators'])\n",
    "print('Best criterion:', rf_tuned.best_estimator_.get_params()['criterion'])\n",
    "print('Best max_depth:', rf_tuned.best_estimator_.get_params()['max_depth'])\n",
    "print('Best min_samples_split:', rf_tuned.best_estimator_.get_params()['min_samples_split'])\n",
    "print('Best min_samples_leaf:', rf_tuned.best_estimator_.get_params()['min_samples_leaf'])\n",
    "print('Best max_features:', rf_tuned.best_estimator_.get_params()['max_features'])"
   ]
  },
  {
   "cell_type": "markdown",
   "metadata": {},
   "source": [
    "### feature importance"
   ]
  },
  {
   "cell_type": "code",
   "execution_count": 102,
   "metadata": {},
   "outputs": [
    {
     "data": {
      "image/png": "[encoded data removed]",
      "text/plain": [
       "<Figure size 720x576 with 1 Axes>"
      ]
     },
     "metadata": {},
     "output_type": "display_data"
    }
   ],
   "source": [
    "show_feature_importance(rf_tuned.best_estimator_)"
   ]
  },
  {
   "cell_type": "markdown",
   "metadata": {},
   "source": [
    "## Hyperparameter Tuning XGBoost"
   ]
  },
  {
   "cell_type": "code",
   "execution_count": 103,
   "metadata": {},
   "outputs": [
    {
     "name": "stdout",
     "output_type": "stream",
     "text": [
      "Accuracy (Test Set): 0.96\n",
      "Precision (Test Set): 0.97\n",
      "Recall (Test Set): 0.96\n",
      "F1-Score (Test Set): 0.96\n",
      "AUC: 0.96\n"
     ]
    }
   ],
   "source": [
    "from sklearn.model_selection import RandomizedSearchCV, GridSearchCV\n",
    "import numpy as np\n",
    "\n",
    "hyperparameters = {\n",
    "                    'max_depth' : [int(x) for x in np.linspace(10, 110, num = 11)],\n",
    "                    'min_child_weight' : [int(x) for x in np.linspace(1, 20, num = 11)],\n",
    "                    'gamma' : [float(x) for x in np.linspace(0, 1, num = 11)],\n",
    "                    'tree_method' : ['auto', 'exact', 'approx', 'hist'],\n",
    "\n",
    "                    'colsample_bytree' : [float(x) for x in np.linspace(0, 1, num = 11)],\n",
    "                    'eta' : [float(x) for x in np.linspace(0, 1, num = 100)],\n",
    "\n",
    "                    'lambda' : [float(x) for x in np.linspace(0, 1, num = 11)],\n",
    "                    'alpha' : [float(x) for x in np.linspace(0, 1, num = 11)],\n",
    "                    'verbosity': [0]\n",
    "                    }\n",
    "\n",
    "\n",
    "# Init\n",
    "xg = XGBClassifier(random_state=42)\n",
    "xg_tuned = RandomizedSearchCV(xg, hyperparameters, cv=5, random_state=42, scoring='precision')\n",
    "xg_tuned.fit(xtrain_std, ytrain_std)\n",
    "\n",
    "# Predict & Evaluation\n",
    "ypred = xg_tuned.predict(xtest_std)#Check performa dari model\n",
    "eval_classification(xg_tuned, ypred, xtrain_std, ytrain_std, xtest_std, ytest_std)"
   ]
  },
  {
   "cell_type": "markdown",
   "metadata": {},
   "source": [
    "##### accuracy score"
   ]
  },
  {
   "cell_type": "code",
   "execution_count": 104,
   "metadata": {},
   "outputs": [
    {
     "name": "stdout",
     "output_type": "stream",
     "text": [
      "Train score: 0.9885207037307713\n",
      "Test score:0.9686599423631124\n"
     ]
    }
   ],
   "source": [
    "print('Train score: ' + str(xg_tuned.score(xtrain_std, ytrain_std))) \n",
    "print('Test score:' + str(xg_tuned.score(xtest_std, ytest_std)))"
   ]
  },
  {
   "cell_type": "code",
   "execution_count": 105,
   "metadata": {},
   "outputs": [
    {
     "name": "stdout",
     "output_type": "stream",
     "text": [
      "Best max_depth: 50\n",
      "Best min_child_weight: 20\n",
      "Best gamma: 0.1\n",
      "Best tree_method: hist\n",
      "Best colsample_bytree: 0.8\n",
      "Best eta: 0.20202020202020204\n",
      "Best lambda: 0.4\n",
      "Best alpha: 0.7000000000000001\n"
     ]
    }
   ],
   "source": [
    "print('Best max_depth:', xg_tuned.best_estimator_.get_params()['max_depth'])\n",
    "print('Best min_child_weight:', xg_tuned.best_estimator_.get_params()['min_child_weight'])\n",
    "print('Best gamma:', xg_tuned.best_estimator_.get_params()['gamma'])\n",
    "print('Best tree_method:', xg_tuned.best_estimator_.get_params()['tree_method'])\n",
    "print('Best colsample_bytree:', xg_tuned.best_estimator_.get_params()['colsample_bytree'])\n",
    "print('Best eta:', xg_tuned.best_estimator_.get_params()['eta'])\n",
    "print('Best lambda:', xg_tuned.best_estimator_.get_params()['lambda'])\n",
    "print('Best alpha:', xg_tuned.best_estimator_.get_params()['alpha'])"
   ]
  },
  {
   "cell_type": "markdown",
   "metadata": {},
   "source": [
    "### feature importance"
   ]
  },
  {
   "cell_type": "code",
   "execution_count": 106,
   "metadata": {},
   "outputs": [
    {
     "data": {
      "image/png": "[encoded data removed]",
      "text/plain": [
       "<Figure size 720x576 with 1 Axes>"
      ]
     },
     "metadata": {},
     "output_type": "display_data"
    }
   ],
   "source": [
    "show_feature_importance(xg_tuned.best_estimator_)"
   ]
  },
  {
   "cell_type": "markdown",
   "metadata": {},
   "source": [
    "**conclusion** : \n",
    "- as we can see, precision of XGBoost Model is 0.97 which have same value as before tuning but precision of Random Forest Model is down to 0.96. So, we gonna choose best model is XGBoost before tuning because computing is quite fast. Other than that, accuracy score between data training and data testing not much different, so we conclude that there is no overfitting.\n",
    "\n",
    "- if we look at feature importance, top 2 features is Inflight Entertaiment and Seat Comfort looks like feature correlation of Business Travel - Eco Class and Personal Travel - Eco Class. So, we will do some improvement to this features. Hopefully, it can increase customer satisfaction."
   ]
  },
  {
   "cell_type": "markdown",
   "metadata": {},
   "source": [
    "## Simulation of improving 2 features and their effect on customer satisfaction"
   ]
  },
  {
   "cell_type": "markdown",
   "metadata": {},
   "source": [
    "we make new variabel as data_awal to compare satisfaction customer after we improving 2 features."
   ]
  },
  {
   "cell_type": "code",
   "execution_count": 82,
   "metadata": {},
   "outputs": [],
   "source": [
    "data_awal = data.drop(columns=['Gender', 'Customer Type', 'Type of Travel', 'Class', 'Arrival Delay in Minutes'])"
   ]
  },
  {
   "cell_type": "markdown",
   "metadata": {},
   "source": [
    "### We will improve Inflight Entertaiment Service of Personal Travel - Eco Class\n",
    "*we assumed that customer will be satisfied and give rating 4 or 5*"
   ]
  },
  {
   "cell_type": "code",
   "execution_count": 83,
   "metadata": {},
   "outputs": [],
   "source": [
    "#filter data (personal travel- eco class)\n",
    "pers_eco = data[(data['Type of Travel']== 'Personal Travel') & (data['Class']== 'Eco')] "
   ]
  },
  {
   "cell_type": "code",
   "execution_count": 84,
   "metadata": {},
   "outputs": [],
   "source": [
    "#delete categorical data and arrival delay\n",
    "pers_eco = pers_eco.drop(columns=['Gender', 'Customer Type', 'Type of Travel', 'Class', 'Arrival Delay in Minutes'])"
   ]
  },
  {
   "cell_type": "code",
   "execution_count": 85,
   "metadata": {},
   "outputs": [
    {
     "data": {
      "text/html": [
       "<div>\n",
       "<style scoped>\n",
       "    .dataframe tbody tr th:only-of-type {\n",
       "        vertical-align: middle;\n",
       "    }\n",
       "\n",
       "    .dataframe tbody tr th {\n",
       "        vertical-align: top;\n",
       "    }\n",
       "\n",
       "    .dataframe thead th {\n",
       "        text-align: right;\n",
       "    }\n",
       "</style>\n",
       "<table border=\"1\" class=\"dataframe\">\n",
       "  <thead>\n",
       "    <tr style=\"text-align: right;\">\n",
       "      <th></th>\n",
       "      <th>Age</th>\n",
       "      <th>Flight Distance</th>\n",
       "      <th>Seat comfort</th>\n",
       "      <th>Departure/Arrival time convenient</th>\n",
       "      <th>Food and drink</th>\n",
       "      <th>Gate location</th>\n",
       "      <th>Inflight wifi service</th>\n",
       "      <th>Inflight entertainment</th>\n",
       "      <th>Online support</th>\n",
       "      <th>Ease of Online booking</th>\n",
       "      <th>...</th>\n",
       "      <th>Departure Delay in Minutes</th>\n",
       "      <th>Gender_Female</th>\n",
       "      <th>Gender_Male</th>\n",
       "      <th>Customer Type_Loyal Customer</th>\n",
       "      <th>Customer Type_disloyal Customer</th>\n",
       "      <th>Type of Travel_Business travel</th>\n",
       "      <th>Type of Travel_Personal Travel</th>\n",
       "      <th>Class_Business</th>\n",
       "      <th>Class_Eco</th>\n",
       "      <th>Class_Eco Plus</th>\n",
       "    </tr>\n",
       "  </thead>\n",
       "  <tbody>\n",
       "    <tr>\n",
       "      <th>0</th>\n",
       "      <td>53</td>\n",
       "      <td>0.673069</td>\n",
       "      <td>3</td>\n",
       "      <td>4</td>\n",
       "      <td>3</td>\n",
       "      <td>2</td>\n",
       "      <td>2</td>\n",
       "      <td>3</td>\n",
       "      <td>2</td>\n",
       "      <td>2</td>\n",
       "      <td>...</td>\n",
       "      <td>0.000000</td>\n",
       "      <td>0</td>\n",
       "      <td>1</td>\n",
       "      <td>1</td>\n",
       "      <td>0</td>\n",
       "      <td>0</td>\n",
       "      <td>1</td>\n",
       "      <td>0</td>\n",
       "      <td>1</td>\n",
       "      <td>0</td>\n",
       "    </tr>\n",
       "    <tr>\n",
       "      <th>1</th>\n",
       "      <td>21</td>\n",
       "      <td>0.747628</td>\n",
       "      <td>2</td>\n",
       "      <td>4</td>\n",
       "      <td>2</td>\n",
       "      <td>2</td>\n",
       "      <td>2</td>\n",
       "      <td>2</td>\n",
       "      <td>2</td>\n",
       "      <td>2</td>\n",
       "      <td>...</td>\n",
       "      <td>0.325210</td>\n",
       "      <td>0</td>\n",
       "      <td>1</td>\n",
       "      <td>1</td>\n",
       "      <td>0</td>\n",
       "      <td>0</td>\n",
       "      <td>1</td>\n",
       "      <td>0</td>\n",
       "      <td>1</td>\n",
       "      <td>0</td>\n",
       "    </tr>\n",
       "    <tr>\n",
       "      <th>2</th>\n",
       "      <td>19</td>\n",
       "      <td>0.711522</td>\n",
       "      <td>4</td>\n",
       "      <td>4</td>\n",
       "      <td>4</td>\n",
       "      <td>1</td>\n",
       "      <td>1</td>\n",
       "      <td>4</td>\n",
       "      <td>1</td>\n",
       "      <td>1</td>\n",
       "      <td>...</td>\n",
       "      <td>0.000000</td>\n",
       "      <td>1</td>\n",
       "      <td>0</td>\n",
       "      <td>1</td>\n",
       "      <td>0</td>\n",
       "      <td>0</td>\n",
       "      <td>1</td>\n",
       "      <td>0</td>\n",
       "      <td>1</td>\n",
       "      <td>0</td>\n",
       "    </tr>\n",
       "    <tr>\n",
       "      <th>3</th>\n",
       "      <td>70</td>\n",
       "      <td>0.358478</td>\n",
       "      <td>5</td>\n",
       "      <td>3</td>\n",
       "      <td>3</td>\n",
       "      <td>3</td>\n",
       "      <td>5</td>\n",
       "      <td>5</td>\n",
       "      <td>5</td>\n",
       "      <td>5</td>\n",
       "      <td>...</td>\n",
       "      <td>0.587348</td>\n",
       "      <td>1</td>\n",
       "      <td>0</td>\n",
       "      <td>1</td>\n",
       "      <td>0</td>\n",
       "      <td>0</td>\n",
       "      <td>1</td>\n",
       "      <td>0</td>\n",
       "      <td>1</td>\n",
       "      <td>0</td>\n",
       "    </tr>\n",
       "    <tr>\n",
       "      <th>4</th>\n",
       "      <td>41</td>\n",
       "      <td>0.783013</td>\n",
       "      <td>5</td>\n",
       "      <td>2</td>\n",
       "      <td>2</td>\n",
       "      <td>2</td>\n",
       "      <td>5</td>\n",
       "      <td>5</td>\n",
       "      <td>5</td>\n",
       "      <td>5</td>\n",
       "      <td>...</td>\n",
       "      <td>0.337011</td>\n",
       "      <td>1</td>\n",
       "      <td>0</td>\n",
       "      <td>1</td>\n",
       "      <td>0</td>\n",
       "      <td>0</td>\n",
       "      <td>1</td>\n",
       "      <td>0</td>\n",
       "      <td>1</td>\n",
       "      <td>0</td>\n",
       "    </tr>\n",
       "    <tr>\n",
       "      <th>...</th>\n",
       "      <td>...</td>\n",
       "      <td>...</td>\n",
       "      <td>...</td>\n",
       "      <td>...</td>\n",
       "      <td>...</td>\n",
       "      <td>...</td>\n",
       "      <td>...</td>\n",
       "      <td>...</td>\n",
       "      <td>...</td>\n",
       "      <td>...</td>\n",
       "      <td>...</td>\n",
       "      <td>...</td>\n",
       "      <td>...</td>\n",
       "      <td>...</td>\n",
       "      <td>...</td>\n",
       "      <td>...</td>\n",
       "      <td>...</td>\n",
       "      <td>...</td>\n",
       "      <td>...</td>\n",
       "      <td>...</td>\n",
       "      <td>...</td>\n",
       "    </tr>\n",
       "    <tr>\n",
       "      <th>32881</th>\n",
       "      <td>16</td>\n",
       "      <td>0.701746</td>\n",
       "      <td>4</td>\n",
       "      <td>4</td>\n",
       "      <td>4</td>\n",
       "      <td>4</td>\n",
       "      <td>1</td>\n",
       "      <td>4</td>\n",
       "      <td>4</td>\n",
       "      <td>4</td>\n",
       "      <td>...</td>\n",
       "      <td>0.553008</td>\n",
       "      <td>1</td>\n",
       "      <td>0</td>\n",
       "      <td>1</td>\n",
       "      <td>0</td>\n",
       "      <td>0</td>\n",
       "      <td>1</td>\n",
       "      <td>0</td>\n",
       "      <td>1</td>\n",
       "      <td>0</td>\n",
       "    </tr>\n",
       "    <tr>\n",
       "      <th>32882</th>\n",
       "      <td>53</td>\n",
       "      <td>0.773884</td>\n",
       "      <td>1</td>\n",
       "      <td>5</td>\n",
       "      <td>1</td>\n",
       "      <td>5</td>\n",
       "      <td>2</td>\n",
       "      <td>1</td>\n",
       "      <td>2</td>\n",
       "      <td>2</td>\n",
       "      <td>...</td>\n",
       "      <td>0.419217</td>\n",
       "      <td>0</td>\n",
       "      <td>1</td>\n",
       "      <td>1</td>\n",
       "      <td>0</td>\n",
       "      <td>0</td>\n",
       "      <td>1</td>\n",
       "      <td>0</td>\n",
       "      <td>1</td>\n",
       "      <td>0</td>\n",
       "    </tr>\n",
       "    <tr>\n",
       "      <th>32883</th>\n",
       "      <td>57</td>\n",
       "      <td>0.782843</td>\n",
       "      <td>2</td>\n",
       "      <td>4</td>\n",
       "      <td>2</td>\n",
       "      <td>3</td>\n",
       "      <td>4</td>\n",
       "      <td>2</td>\n",
       "      <td>4</td>\n",
       "      <td>4</td>\n",
       "      <td>...</td>\n",
       "      <td>0.297994</td>\n",
       "      <td>0</td>\n",
       "      <td>1</td>\n",
       "      <td>1</td>\n",
       "      <td>0</td>\n",
       "      <td>0</td>\n",
       "      <td>1</td>\n",
       "      <td>0</td>\n",
       "      <td>1</td>\n",
       "      <td>0</td>\n",
       "    </tr>\n",
       "    <tr>\n",
       "      <th>32884</th>\n",
       "      <td>41</td>\n",
       "      <td>0.789621</td>\n",
       "      <td>1</td>\n",
       "      <td>1</td>\n",
       "      <td>1</td>\n",
       "      <td>1</td>\n",
       "      <td>5</td>\n",
       "      <td>1</td>\n",
       "      <td>5</td>\n",
       "      <td>5</td>\n",
       "      <td>...</td>\n",
       "      <td>0.000000</td>\n",
       "      <td>0</td>\n",
       "      <td>1</td>\n",
       "      <td>1</td>\n",
       "      <td>0</td>\n",
       "      <td>0</td>\n",
       "      <td>1</td>\n",
       "      <td>0</td>\n",
       "      <td>1</td>\n",
       "      <td>0</td>\n",
       "    </tr>\n",
       "    <tr>\n",
       "      <th>32885</th>\n",
       "      <td>42</td>\n",
       "      <td>0.462000</td>\n",
       "      <td>1</td>\n",
       "      <td>1</td>\n",
       "      <td>2</td>\n",
       "      <td>1</td>\n",
       "      <td>5</td>\n",
       "      <td>5</td>\n",
       "      <td>4</td>\n",
       "      <td>5</td>\n",
       "      <td>...</td>\n",
       "      <td>0.000000</td>\n",
       "      <td>1</td>\n",
       "      <td>0</td>\n",
       "      <td>1</td>\n",
       "      <td>0</td>\n",
       "      <td>0</td>\n",
       "      <td>1</td>\n",
       "      <td>0</td>\n",
       "      <td>1</td>\n",
       "      <td>0</td>\n",
       "    </tr>\n",
       "  </tbody>\n",
       "</table>\n",
       "<p>32886 rows × 26 columns</p>\n",
       "</div>"
      ],
      "text/plain": [
       "       Age  Flight Distance  Seat comfort  Departure/Arrival time convenient  \\\n",
       "0       53         0.673069             3                                  4   \n",
       "1       21         0.747628             2                                  4   \n",
       "2       19         0.711522             4                                  4   \n",
       "3       70         0.358478             5                                  3   \n",
       "4       41         0.783013             5                                  2   \n",
       "...    ...              ...           ...                                ...   \n",
       "32881   16         0.701746             4                                  4   \n",
       "32882   53         0.773884             1                                  5   \n",
       "32883   57         0.782843             2                                  4   \n",
       "32884   41         0.789621             1                                  1   \n",
       "32885   42         0.462000             1                                  1   \n",
       "\n",
       "       Food and drink  Gate location  Inflight wifi service  \\\n",
       "0                   3              2                      2   \n",
       "1                   2              2                      2   \n",
       "2                   4              1                      1   \n",
       "3                   3              3                      5   \n",
       "4                   2              2                      5   \n",
       "...               ...            ...                    ...   \n",
       "32881               4              4                      1   \n",
       "32882               1              5                      2   \n",
       "32883               2              3                      4   \n",
       "32884               1              1                      5   \n",
       "32885               2              1                      5   \n",
       "\n",
       "       Inflight entertainment  Online support  Ease of Online booking  ...  \\\n",
       "0                           3               2                       2  ...   \n",
       "1                           2               2                       2  ...   \n",
       "2                           4               1                       1  ...   \n",
       "3                           5               5                       5  ...   \n",
       "4                           5               5                       5  ...   \n",
       "...                       ...             ...                     ...  ...   \n",
       "32881                       4               4                       4  ...   \n",
       "32882                       1               2                       2  ...   \n",
       "32883                       2               4                       4  ...   \n",
       "32884                       1               5                       5  ...   \n",
       "32885                       5               4                       5  ...   \n",
       "\n",
       "       Departure Delay in Minutes  Gender_Female  Gender_Male  \\\n",
       "0                        0.000000              0            1   \n",
       "1                        0.325210              0            1   \n",
       "2                        0.000000              1            0   \n",
       "3                        0.587348              1            0   \n",
       "4                        0.337011              1            0   \n",
       "...                           ...            ...          ...   \n",
       "32881                    0.553008              1            0   \n",
       "32882                    0.419217              0            1   \n",
       "32883                    0.297994              0            1   \n",
       "32884                    0.000000              0            1   \n",
       "32885                    0.000000              1            0   \n",
       "\n",
       "       Customer Type_Loyal Customer  Customer Type_disloyal Customer  \\\n",
       "0                                 1                                0   \n",
       "1                                 1                                0   \n",
       "2                                 1                                0   \n",
       "3                                 1                                0   \n",
       "4                                 1                                0   \n",
       "...                             ...                              ...   \n",
       "32881                             1                                0   \n",
       "32882                             1                                0   \n",
       "32883                             1                                0   \n",
       "32884                             1                                0   \n",
       "32885                             1                                0   \n",
       "\n",
       "       Type of Travel_Business travel  Type of Travel_Personal Travel  \\\n",
       "0                                   0                               1   \n",
       "1                                   0                               1   \n",
       "2                                   0                               1   \n",
       "3                                   0                               1   \n",
       "4                                   0                               1   \n",
       "...                               ...                             ...   \n",
       "32881                               0                               1   \n",
       "32882                               0                               1   \n",
       "32883                               0                               1   \n",
       "32884                               0                               1   \n",
       "32885                               0                               1   \n",
       "\n",
       "       Class_Business  Class_Eco  Class_Eco Plus  \n",
       "0                   0          1               0  \n",
       "1                   0          1               0  \n",
       "2                   0          1               0  \n",
       "3                   0          1               0  \n",
       "4                   0          1               0  \n",
       "...               ...        ...             ...  \n",
       "32881               0          1               0  \n",
       "32882               0          1               0  \n",
       "32883               0          1               0  \n",
       "32884               0          1               0  \n",
       "32885               0          1               0  \n",
       "\n",
       "[32886 rows x 26 columns]"
      ]
     },
     "execution_count": 85,
     "metadata": {},
     "output_type": "execute_result"
    }
   ],
   "source": [
    "# use all filtered data, delete satisfaction and satisfaction label column\n",
    "sample_pers_eco = pers_eco.sample(frac=1, random_state=42)\n",
    "x_pers_eco = sample_pers_eco.drop(columns=['satisfaction', 'satisfaction_label'])\n",
    "x_pers_eco.reset_index(inplace=True, drop=True)\n",
    "x_pers_eco"
   ]
  },
  {
   "cell_type": "code",
   "execution_count": 86,
   "metadata": {},
   "outputs": [],
   "source": [
    "#inflight entertainment column is replaced with a rating of 4 or 5 (random)\n",
    "new_rate = np.random.choice(range(4,6), size = x_pers_eco.shape[0])\n",
    "for i in ['Inflight entertainment']:\n",
    "    x_pers_eco[i] = x_pers_eco[i].map(dict(zip(x_pers_eco[i].unique(), new_rate)))"
   ]
  },
  {
   "cell_type": "code",
   "execution_count": 87,
   "metadata": {},
   "outputs": [],
   "source": [
    "#data will be predict using XGBoost\n",
    "y_pers_eco = xg.predict(x_pers_eco)\n",
    "y_pers_eco = pd.DataFrame(y_pers_eco.tolist())"
   ]
  },
  {
   "cell_type": "code",
   "execution_count": 88,
   "metadata": {},
   "outputs": [
    {
     "data": {
      "text/html": [
       "<div>\n",
       "<style scoped>\n",
       "    .dataframe tbody tr th:only-of-type {\n",
       "        vertical-align: middle;\n",
       "    }\n",
       "\n",
       "    .dataframe tbody tr th {\n",
       "        vertical-align: top;\n",
       "    }\n",
       "\n",
       "    .dataframe thead th {\n",
       "        text-align: right;\n",
       "    }\n",
       "</style>\n",
       "<table border=\"1\" class=\"dataframe\">\n",
       "  <thead>\n",
       "    <tr style=\"text-align: right;\">\n",
       "      <th></th>\n",
       "      <th>Age</th>\n",
       "      <th>Flight Distance</th>\n",
       "      <th>Seat comfort</th>\n",
       "      <th>Departure/Arrival time convenient</th>\n",
       "      <th>Food and drink</th>\n",
       "      <th>Gate location</th>\n",
       "      <th>Inflight wifi service</th>\n",
       "      <th>Inflight entertainment</th>\n",
       "      <th>Online support</th>\n",
       "      <th>Ease of Online booking</th>\n",
       "      <th>...</th>\n",
       "      <th>Gender_Female</th>\n",
       "      <th>Gender_Male</th>\n",
       "      <th>Customer Type_Loyal Customer</th>\n",
       "      <th>Customer Type_disloyal Customer</th>\n",
       "      <th>Type of Travel_Business travel</th>\n",
       "      <th>Type of Travel_Personal Travel</th>\n",
       "      <th>Class_Business</th>\n",
       "      <th>Class_Eco</th>\n",
       "      <th>Class_Eco Plus</th>\n",
       "      <th>satisfaction_label</th>\n",
       "    </tr>\n",
       "  </thead>\n",
       "  <tbody>\n",
       "    <tr>\n",
       "      <th>0</th>\n",
       "      <td>53</td>\n",
       "      <td>0.673069</td>\n",
       "      <td>3</td>\n",
       "      <td>4</td>\n",
       "      <td>3</td>\n",
       "      <td>2</td>\n",
       "      <td>2</td>\n",
       "      <td>4</td>\n",
       "      <td>2</td>\n",
       "      <td>2</td>\n",
       "      <td>...</td>\n",
       "      <td>0</td>\n",
       "      <td>1</td>\n",
       "      <td>1</td>\n",
       "      <td>0</td>\n",
       "      <td>0</td>\n",
       "      <td>1</td>\n",
       "      <td>0</td>\n",
       "      <td>1</td>\n",
       "      <td>0</td>\n",
       "      <td>0</td>\n",
       "    </tr>\n",
       "    <tr>\n",
       "      <th>1</th>\n",
       "      <td>21</td>\n",
       "      <td>0.747628</td>\n",
       "      <td>2</td>\n",
       "      <td>4</td>\n",
       "      <td>2</td>\n",
       "      <td>2</td>\n",
       "      <td>2</td>\n",
       "      <td>5</td>\n",
       "      <td>2</td>\n",
       "      <td>2</td>\n",
       "      <td>...</td>\n",
       "      <td>0</td>\n",
       "      <td>1</td>\n",
       "      <td>1</td>\n",
       "      <td>0</td>\n",
       "      <td>0</td>\n",
       "      <td>1</td>\n",
       "      <td>0</td>\n",
       "      <td>1</td>\n",
       "      <td>0</td>\n",
       "      <td>0</td>\n",
       "    </tr>\n",
       "    <tr>\n",
       "      <th>2</th>\n",
       "      <td>19</td>\n",
       "      <td>0.711522</td>\n",
       "      <td>4</td>\n",
       "      <td>4</td>\n",
       "      <td>4</td>\n",
       "      <td>1</td>\n",
       "      <td>1</td>\n",
       "      <td>5</td>\n",
       "      <td>1</td>\n",
       "      <td>1</td>\n",
       "      <td>...</td>\n",
       "      <td>1</td>\n",
       "      <td>0</td>\n",
       "      <td>1</td>\n",
       "      <td>0</td>\n",
       "      <td>0</td>\n",
       "      <td>1</td>\n",
       "      <td>0</td>\n",
       "      <td>1</td>\n",
       "      <td>0</td>\n",
       "      <td>1</td>\n",
       "    </tr>\n",
       "    <tr>\n",
       "      <th>3</th>\n",
       "      <td>70</td>\n",
       "      <td>0.358478</td>\n",
       "      <td>5</td>\n",
       "      <td>3</td>\n",
       "      <td>3</td>\n",
       "      <td>3</td>\n",
       "      <td>5</td>\n",
       "      <td>4</td>\n",
       "      <td>5</td>\n",
       "      <td>5</td>\n",
       "      <td>...</td>\n",
       "      <td>1</td>\n",
       "      <td>0</td>\n",
       "      <td>1</td>\n",
       "      <td>0</td>\n",
       "      <td>0</td>\n",
       "      <td>1</td>\n",
       "      <td>0</td>\n",
       "      <td>1</td>\n",
       "      <td>0</td>\n",
       "      <td>1</td>\n",
       "    </tr>\n",
       "    <tr>\n",
       "      <th>4</th>\n",
       "      <td>41</td>\n",
       "      <td>0.783013</td>\n",
       "      <td>5</td>\n",
       "      <td>2</td>\n",
       "      <td>2</td>\n",
       "      <td>2</td>\n",
       "      <td>5</td>\n",
       "      <td>4</td>\n",
       "      <td>5</td>\n",
       "      <td>5</td>\n",
       "      <td>...</td>\n",
       "      <td>1</td>\n",
       "      <td>0</td>\n",
       "      <td>1</td>\n",
       "      <td>0</td>\n",
       "      <td>0</td>\n",
       "      <td>1</td>\n",
       "      <td>0</td>\n",
       "      <td>1</td>\n",
       "      <td>0</td>\n",
       "      <td>1</td>\n",
       "    </tr>\n",
       "    <tr>\n",
       "      <th>...</th>\n",
       "      <td>...</td>\n",
       "      <td>...</td>\n",
       "      <td>...</td>\n",
       "      <td>...</td>\n",
       "      <td>...</td>\n",
       "      <td>...</td>\n",
       "      <td>...</td>\n",
       "      <td>...</td>\n",
       "      <td>...</td>\n",
       "      <td>...</td>\n",
       "      <td>...</td>\n",
       "      <td>...</td>\n",
       "      <td>...</td>\n",
       "      <td>...</td>\n",
       "      <td>...</td>\n",
       "      <td>...</td>\n",
       "      <td>...</td>\n",
       "      <td>...</td>\n",
       "      <td>...</td>\n",
       "      <td>...</td>\n",
       "      <td>...</td>\n",
       "    </tr>\n",
       "    <tr>\n",
       "      <th>32881</th>\n",
       "      <td>16</td>\n",
       "      <td>0.701746</td>\n",
       "      <td>4</td>\n",
       "      <td>4</td>\n",
       "      <td>4</td>\n",
       "      <td>4</td>\n",
       "      <td>1</td>\n",
       "      <td>5</td>\n",
       "      <td>4</td>\n",
       "      <td>4</td>\n",
       "      <td>...</td>\n",
       "      <td>1</td>\n",
       "      <td>0</td>\n",
       "      <td>1</td>\n",
       "      <td>0</td>\n",
       "      <td>0</td>\n",
       "      <td>1</td>\n",
       "      <td>0</td>\n",
       "      <td>1</td>\n",
       "      <td>0</td>\n",
       "      <td>1</td>\n",
       "    </tr>\n",
       "    <tr>\n",
       "      <th>32882</th>\n",
       "      <td>53</td>\n",
       "      <td>0.773884</td>\n",
       "      <td>1</td>\n",
       "      <td>5</td>\n",
       "      <td>1</td>\n",
       "      <td>5</td>\n",
       "      <td>2</td>\n",
       "      <td>4</td>\n",
       "      <td>2</td>\n",
       "      <td>2</td>\n",
       "      <td>...</td>\n",
       "      <td>0</td>\n",
       "      <td>1</td>\n",
       "      <td>1</td>\n",
       "      <td>0</td>\n",
       "      <td>0</td>\n",
       "      <td>1</td>\n",
       "      <td>0</td>\n",
       "      <td>1</td>\n",
       "      <td>0</td>\n",
       "      <td>0</td>\n",
       "    </tr>\n",
       "    <tr>\n",
       "      <th>32883</th>\n",
       "      <td>57</td>\n",
       "      <td>0.782843</td>\n",
       "      <td>2</td>\n",
       "      <td>4</td>\n",
       "      <td>2</td>\n",
       "      <td>3</td>\n",
       "      <td>4</td>\n",
       "      <td>5</td>\n",
       "      <td>4</td>\n",
       "      <td>4</td>\n",
       "      <td>...</td>\n",
       "      <td>0</td>\n",
       "      <td>1</td>\n",
       "      <td>1</td>\n",
       "      <td>0</td>\n",
       "      <td>0</td>\n",
       "      <td>1</td>\n",
       "      <td>0</td>\n",
       "      <td>1</td>\n",
       "      <td>0</td>\n",
       "      <td>0</td>\n",
       "    </tr>\n",
       "    <tr>\n",
       "      <th>32884</th>\n",
       "      <td>41</td>\n",
       "      <td>0.789621</td>\n",
       "      <td>1</td>\n",
       "      <td>1</td>\n",
       "      <td>1</td>\n",
       "      <td>1</td>\n",
       "      <td>5</td>\n",
       "      <td>4</td>\n",
       "      <td>5</td>\n",
       "      <td>5</td>\n",
       "      <td>...</td>\n",
       "      <td>0</td>\n",
       "      <td>1</td>\n",
       "      <td>1</td>\n",
       "      <td>0</td>\n",
       "      <td>0</td>\n",
       "      <td>1</td>\n",
       "      <td>0</td>\n",
       "      <td>1</td>\n",
       "      <td>0</td>\n",
       "      <td>1</td>\n",
       "    </tr>\n",
       "    <tr>\n",
       "      <th>32885</th>\n",
       "      <td>42</td>\n",
       "      <td>0.462000</td>\n",
       "      <td>1</td>\n",
       "      <td>1</td>\n",
       "      <td>2</td>\n",
       "      <td>1</td>\n",
       "      <td>5</td>\n",
       "      <td>4</td>\n",
       "      <td>4</td>\n",
       "      <td>5</td>\n",
       "      <td>...</td>\n",
       "      <td>1</td>\n",
       "      <td>0</td>\n",
       "      <td>1</td>\n",
       "      <td>0</td>\n",
       "      <td>0</td>\n",
       "      <td>1</td>\n",
       "      <td>0</td>\n",
       "      <td>1</td>\n",
       "      <td>0</td>\n",
       "      <td>1</td>\n",
       "    </tr>\n",
       "  </tbody>\n",
       "</table>\n",
       "<p>32886 rows × 27 columns</p>\n",
       "</div>"
      ],
      "text/plain": [
       "       Age  Flight Distance  Seat comfort  Departure/Arrival time convenient  \\\n",
       "0       53         0.673069             3                                  4   \n",
       "1       21         0.747628             2                                  4   \n",
       "2       19         0.711522             4                                  4   \n",
       "3       70         0.358478             5                                  3   \n",
       "4       41         0.783013             5                                  2   \n",
       "...    ...              ...           ...                                ...   \n",
       "32881   16         0.701746             4                                  4   \n",
       "32882   53         0.773884             1                                  5   \n",
       "32883   57         0.782843             2                                  4   \n",
       "32884   41         0.789621             1                                  1   \n",
       "32885   42         0.462000             1                                  1   \n",
       "\n",
       "       Food and drink  Gate location  Inflight wifi service  \\\n",
       "0                   3              2                      2   \n",
       "1                   2              2                      2   \n",
       "2                   4              1                      1   \n",
       "3                   3              3                      5   \n",
       "4                   2              2                      5   \n",
       "...               ...            ...                    ...   \n",
       "32881               4              4                      1   \n",
       "32882               1              5                      2   \n",
       "32883               2              3                      4   \n",
       "32884               1              1                      5   \n",
       "32885               2              1                      5   \n",
       "\n",
       "       Inflight entertainment  Online support  Ease of Online booking  ...  \\\n",
       "0                           4               2                       2  ...   \n",
       "1                           5               2                       2  ...   \n",
       "2                           5               1                       1  ...   \n",
       "3                           4               5                       5  ...   \n",
       "4                           4               5                       5  ...   \n",
       "...                       ...             ...                     ...  ...   \n",
       "32881                       5               4                       4  ...   \n",
       "32882                       4               2                       2  ...   \n",
       "32883                       5               4                       4  ...   \n",
       "32884                       4               5                       5  ...   \n",
       "32885                       4               4                       5  ...   \n",
       "\n",
       "       Gender_Female  Gender_Male  Customer Type_Loyal Customer  \\\n",
       "0                  0            1                             1   \n",
       "1                  0            1                             1   \n",
       "2                  1            0                             1   \n",
       "3                  1            0                             1   \n",
       "4                  1            0                             1   \n",
       "...              ...          ...                           ...   \n",
       "32881              1            0                             1   \n",
       "32882              0            1                             1   \n",
       "32883              0            1                             1   \n",
       "32884              0            1                             1   \n",
       "32885              1            0                             1   \n",
       "\n",
       "       Customer Type_disloyal Customer  Type of Travel_Business travel  \\\n",
       "0                                    0                               0   \n",
       "1                                    0                               0   \n",
       "2                                    0                               0   \n",
       "3                                    0                               0   \n",
       "4                                    0                               0   \n",
       "...                                ...                             ...   \n",
       "32881                                0                               0   \n",
       "32882                                0                               0   \n",
       "32883                                0                               0   \n",
       "32884                                0                               0   \n",
       "32885                                0                               0   \n",
       "\n",
       "       Type of Travel_Personal Travel  Class_Business  Class_Eco  \\\n",
       "0                                   1               0          1   \n",
       "1                                   1               0          1   \n",
       "2                                   1               0          1   \n",
       "3                                   1               0          1   \n",
       "4                                   1               0          1   \n",
       "...                               ...             ...        ...   \n",
       "32881                               1               0          1   \n",
       "32882                               1               0          1   \n",
       "32883                               1               0          1   \n",
       "32884                               1               0          1   \n",
       "32885                               1               0          1   \n",
       "\n",
       "       Class_Eco Plus  satisfaction_label  \n",
       "0                   0                   0  \n",
       "1                   0                   0  \n",
       "2                   0                   1  \n",
       "3                   0                   1  \n",
       "4                   0                   1  \n",
       "...               ...                 ...  \n",
       "32881               0                   1  \n",
       "32882               0                   0  \n",
       "32883               0                   0  \n",
       "32884               0                   1  \n",
       "32885               0                   1  \n",
       "\n",
       "[32886 rows x 27 columns]"
      ]
     },
     "execution_count": 88,
     "metadata": {},
     "output_type": "execute_result"
    }
   ],
   "source": [
    "#Predicted results are entered in satisfaction label column\n",
    "df_pers_eco = x_pers_eco.copy()\n",
    "df_pers_eco['satisfaction_label'] = y_pers_eco\n",
    "df_pers_eco"
   ]
  },
  {
   "cell_type": "code",
   "execution_count": 89,
   "metadata": {},
   "outputs": [
    {
     "data": {
      "text/plain": [
       "1    18550\n",
       "0    14336\n",
       "Name: satisfaction_label, dtype: int64"
      ]
     },
     "execution_count": 89,
     "metadata": {},
     "output_type": "execute_result"
    }
   ],
   "source": [
    "#the number of dissatisfied customers which was 17610 reduced to 14336\n",
    "df_pers_eco['satisfaction_label'].value_counts()"
   ]
  },
  {
   "cell_type": "markdown",
   "metadata": {},
   "source": [
    "### We will improve Seat Comfort Service of Business Travel - Eco Class\n",
    "*we assumed that customer will be satisfied and give rating 4 or 5*"
   ]
  },
  {
   "cell_type": "code",
   "execution_count": 90,
   "metadata": {},
   "outputs": [],
   "source": [
    "# filter data (business travel- eco class)\n",
    "bus_eco = data[(data['Type of Travel']== 'Business travel') & (data['Class']== 'Eco')]"
   ]
  },
  {
   "cell_type": "code",
   "execution_count": 91,
   "metadata": {},
   "outputs": [],
   "source": [
    "#delete categorical data and arrival delay\n",
    "bus_eco = bus_eco.drop(columns=['Gender', 'Customer Type', 'Type of Travel', 'Class', 'Arrival Delay in Minutes'])"
   ]
  },
  {
   "cell_type": "code",
   "execution_count": 92,
   "metadata": {},
   "outputs": [
    {
     "data": {
      "text/html": [
       "<div>\n",
       "<style scoped>\n",
       "    .dataframe tbody tr th:only-of-type {\n",
       "        vertical-align: middle;\n",
       "    }\n",
       "\n",
       "    .dataframe tbody tr th {\n",
       "        vertical-align: top;\n",
       "    }\n",
       "\n",
       "    .dataframe thead th {\n",
       "        text-align: right;\n",
       "    }\n",
       "</style>\n",
       "<table border=\"1\" class=\"dataframe\">\n",
       "  <thead>\n",
       "    <tr style=\"text-align: right;\">\n",
       "      <th></th>\n",
       "      <th>Age</th>\n",
       "      <th>Flight Distance</th>\n",
       "      <th>Seat comfort</th>\n",
       "      <th>Departure/Arrival time convenient</th>\n",
       "      <th>Food and drink</th>\n",
       "      <th>Gate location</th>\n",
       "      <th>Inflight wifi service</th>\n",
       "      <th>Inflight entertainment</th>\n",
       "      <th>Online support</th>\n",
       "      <th>Ease of Online booking</th>\n",
       "      <th>...</th>\n",
       "      <th>Departure Delay in Minutes</th>\n",
       "      <th>Gender_Female</th>\n",
       "      <th>Gender_Male</th>\n",
       "      <th>Customer Type_Loyal Customer</th>\n",
       "      <th>Customer Type_disloyal Customer</th>\n",
       "      <th>Type of Travel_Business travel</th>\n",
       "      <th>Type of Travel_Personal Travel</th>\n",
       "      <th>Class_Business</th>\n",
       "      <th>Class_Eco</th>\n",
       "      <th>Class_Eco Plus</th>\n",
       "    </tr>\n",
       "  </thead>\n",
       "  <tbody>\n",
       "    <tr>\n",
       "      <th>0</th>\n",
       "      <td>54</td>\n",
       "      <td>0.369154</td>\n",
       "      <td>4</td>\n",
       "      <td>3</td>\n",
       "      <td>3</td>\n",
       "      <td>3</td>\n",
       "      <td>2</td>\n",
       "      <td>2</td>\n",
       "      <td>3</td>\n",
       "      <td>4</td>\n",
       "      <td>...</td>\n",
       "      <td>0.553008</td>\n",
       "      <td>1</td>\n",
       "      <td>0</td>\n",
       "      <td>1</td>\n",
       "      <td>0</td>\n",
       "      <td>1</td>\n",
       "      <td>0</td>\n",
       "      <td>0</td>\n",
       "      <td>1</td>\n",
       "      <td>0</td>\n",
       "    </tr>\n",
       "    <tr>\n",
       "      <th>1</th>\n",
       "      <td>42</td>\n",
       "      <td>0.746512</td>\n",
       "      <td>2</td>\n",
       "      <td>1</td>\n",
       "      <td>1</td>\n",
       "      <td>1</td>\n",
       "      <td>1</td>\n",
       "      <td>1</td>\n",
       "      <td>1</td>\n",
       "      <td>1</td>\n",
       "      <td>...</td>\n",
       "      <td>0.188014</td>\n",
       "      <td>1</td>\n",
       "      <td>0</td>\n",
       "      <td>0</td>\n",
       "      <td>1</td>\n",
       "      <td>1</td>\n",
       "      <td>0</td>\n",
       "      <td>0</td>\n",
       "      <td>1</td>\n",
       "      <td>0</td>\n",
       "    </tr>\n",
       "    <tr>\n",
       "      <th>2</th>\n",
       "      <td>22</td>\n",
       "      <td>0.807194</td>\n",
       "      <td>5</td>\n",
       "      <td>5</td>\n",
       "      <td>5</td>\n",
       "      <td>3</td>\n",
       "      <td>2</td>\n",
       "      <td>5</td>\n",
       "      <td>2</td>\n",
       "      <td>2</td>\n",
       "      <td>...</td>\n",
       "      <td>0.000000</td>\n",
       "      <td>0</td>\n",
       "      <td>1</td>\n",
       "      <td>0</td>\n",
       "      <td>1</td>\n",
       "      <td>1</td>\n",
       "      <td>0</td>\n",
       "      <td>0</td>\n",
       "      <td>1</td>\n",
       "      <td>0</td>\n",
       "    </tr>\n",
       "    <tr>\n",
       "      <th>3</th>\n",
       "      <td>25</td>\n",
       "      <td>0.757887</td>\n",
       "      <td>4</td>\n",
       "      <td>1</td>\n",
       "      <td>3</td>\n",
       "      <td>3</td>\n",
       "      <td>5</td>\n",
       "      <td>3</td>\n",
       "      <td>5</td>\n",
       "      <td>5</td>\n",
       "      <td>...</td>\n",
       "      <td>0.000000</td>\n",
       "      <td>0</td>\n",
       "      <td>1</td>\n",
       "      <td>0</td>\n",
       "      <td>1</td>\n",
       "      <td>1</td>\n",
       "      <td>0</td>\n",
       "      <td>0</td>\n",
       "      <td>1</td>\n",
       "      <td>0</td>\n",
       "    </tr>\n",
       "    <tr>\n",
       "      <th>4</th>\n",
       "      <td>60</td>\n",
       "      <td>0.728772</td>\n",
       "      <td>4</td>\n",
       "      <td>3</td>\n",
       "      <td>3</td>\n",
       "      <td>3</td>\n",
       "      <td>4</td>\n",
       "      <td>4</td>\n",
       "      <td>4</td>\n",
       "      <td>4</td>\n",
       "      <td>...</td>\n",
       "      <td>0.282020</td>\n",
       "      <td>0</td>\n",
       "      <td>1</td>\n",
       "      <td>1</td>\n",
       "      <td>0</td>\n",
       "      <td>1</td>\n",
       "      <td>0</td>\n",
       "      <td>0</td>\n",
       "      <td>1</td>\n",
       "      <td>0</td>\n",
       "    </tr>\n",
       "    <tr>\n",
       "      <th>...</th>\n",
       "      <td>...</td>\n",
       "      <td>...</td>\n",
       "      <td>...</td>\n",
       "      <td>...</td>\n",
       "      <td>...</td>\n",
       "      <td>...</td>\n",
       "      <td>...</td>\n",
       "      <td>...</td>\n",
       "      <td>...</td>\n",
       "      <td>...</td>\n",
       "      <td>...</td>\n",
       "      <td>...</td>\n",
       "      <td>...</td>\n",
       "      <td>...</td>\n",
       "      <td>...</td>\n",
       "      <td>...</td>\n",
       "      <td>...</td>\n",
       "      <td>...</td>\n",
       "      <td>...</td>\n",
       "      <td>...</td>\n",
       "      <td>...</td>\n",
       "    </tr>\n",
       "    <tr>\n",
       "      <th>25226</th>\n",
       "      <td>36</td>\n",
       "      <td>0.647272</td>\n",
       "      <td>4</td>\n",
       "      <td>4</td>\n",
       "      <td>4</td>\n",
       "      <td>4</td>\n",
       "      <td>4</td>\n",
       "      <td>4</td>\n",
       "      <td>4</td>\n",
       "      <td>4</td>\n",
       "      <td>...</td>\n",
       "      <td>0.000000</td>\n",
       "      <td>1</td>\n",
       "      <td>0</td>\n",
       "      <td>1</td>\n",
       "      <td>0</td>\n",
       "      <td>1</td>\n",
       "      <td>0</td>\n",
       "      <td>0</td>\n",
       "      <td>1</td>\n",
       "      <td>0</td>\n",
       "    </tr>\n",
       "    <tr>\n",
       "      <th>25227</th>\n",
       "      <td>35</td>\n",
       "      <td>0.822951</td>\n",
       "      <td>2</td>\n",
       "      <td>2</td>\n",
       "      <td>2</td>\n",
       "      <td>5</td>\n",
       "      <td>2</td>\n",
       "      <td>2</td>\n",
       "      <td>3</td>\n",
       "      <td>2</td>\n",
       "      <td>...</td>\n",
       "      <td>0.000000</td>\n",
       "      <td>1</td>\n",
       "      <td>0</td>\n",
       "      <td>0</td>\n",
       "      <td>1</td>\n",
       "      <td>1</td>\n",
       "      <td>0</td>\n",
       "      <td>0</td>\n",
       "      <td>1</td>\n",
       "      <td>0</td>\n",
       "    </tr>\n",
       "    <tr>\n",
       "      <th>25228</th>\n",
       "      <td>20</td>\n",
       "      <td>0.767011</td>\n",
       "      <td>1</td>\n",
       "      <td>1</td>\n",
       "      <td>1</td>\n",
       "      <td>2</td>\n",
       "      <td>1</td>\n",
       "      <td>1</td>\n",
       "      <td>1</td>\n",
       "      <td>1</td>\n",
       "      <td>...</td>\n",
       "      <td>0.000000</td>\n",
       "      <td>1</td>\n",
       "      <td>0</td>\n",
       "      <td>0</td>\n",
       "      <td>1</td>\n",
       "      <td>1</td>\n",
       "      <td>0</td>\n",
       "      <td>0</td>\n",
       "      <td>1</td>\n",
       "      <td>0</td>\n",
       "    </tr>\n",
       "    <tr>\n",
       "      <th>25229</th>\n",
       "      <td>48</td>\n",
       "      <td>0.302894</td>\n",
       "      <td>2</td>\n",
       "      <td>2</td>\n",
       "      <td>5</td>\n",
       "      <td>2</td>\n",
       "      <td>4</td>\n",
       "      <td>3</td>\n",
       "      <td>3</td>\n",
       "      <td>2</td>\n",
       "      <td>...</td>\n",
       "      <td>0.000000</td>\n",
       "      <td>1</td>\n",
       "      <td>0</td>\n",
       "      <td>1</td>\n",
       "      <td>0</td>\n",
       "      <td>1</td>\n",
       "      <td>0</td>\n",
       "      <td>0</td>\n",
       "      <td>1</td>\n",
       "      <td>0</td>\n",
       "    </tr>\n",
       "    <tr>\n",
       "      <th>25230</th>\n",
       "      <td>16</td>\n",
       "      <td>0.804535</td>\n",
       "      <td>5</td>\n",
       "      <td>2</td>\n",
       "      <td>2</td>\n",
       "      <td>2</td>\n",
       "      <td>5</td>\n",
       "      <td>5</td>\n",
       "      <td>5</td>\n",
       "      <td>5</td>\n",
       "      <td>...</td>\n",
       "      <td>0.000000</td>\n",
       "      <td>1</td>\n",
       "      <td>0</td>\n",
       "      <td>1</td>\n",
       "      <td>0</td>\n",
       "      <td>1</td>\n",
       "      <td>0</td>\n",
       "      <td>0</td>\n",
       "      <td>1</td>\n",
       "      <td>0</td>\n",
       "    </tr>\n",
       "  </tbody>\n",
       "</table>\n",
       "<p>25231 rows × 26 columns</p>\n",
       "</div>"
      ],
      "text/plain": [
       "       Age  Flight Distance  Seat comfort  Departure/Arrival time convenient  \\\n",
       "0       54         0.369154             4                                  3   \n",
       "1       42         0.746512             2                                  1   \n",
       "2       22         0.807194             5                                  5   \n",
       "3       25         0.757887             4                                  1   \n",
       "4       60         0.728772             4                                  3   \n",
       "...    ...              ...           ...                                ...   \n",
       "25226   36         0.647272             4                                  4   \n",
       "25227   35         0.822951             2                                  2   \n",
       "25228   20         0.767011             1                                  1   \n",
       "25229   48         0.302894             2                                  2   \n",
       "25230   16         0.804535             5                                  2   \n",
       "\n",
       "       Food and drink  Gate location  Inflight wifi service  \\\n",
       "0                   3              3                      2   \n",
       "1                   1              1                      1   \n",
       "2                   5              3                      2   \n",
       "3                   3              3                      5   \n",
       "4                   3              3                      4   \n",
       "...               ...            ...                    ...   \n",
       "25226               4              4                      4   \n",
       "25227               2              5                      2   \n",
       "25228               1              2                      1   \n",
       "25229               5              2                      4   \n",
       "25230               2              2                      5   \n",
       "\n",
       "       Inflight entertainment  Online support  Ease of Online booking  ...  \\\n",
       "0                           2               3                       4  ...   \n",
       "1                           1               1                       1  ...   \n",
       "2                           5               2                       2  ...   \n",
       "3                           3               5                       5  ...   \n",
       "4                           4               4                       4  ...   \n",
       "...                       ...             ...                     ...  ...   \n",
       "25226                       4               4                       4  ...   \n",
       "25227                       2               3                       2  ...   \n",
       "25228                       1               1                       1  ...   \n",
       "25229                       3               3                       2  ...   \n",
       "25230                       5               5                       5  ...   \n",
       "\n",
       "       Departure Delay in Minutes  Gender_Female  Gender_Male  \\\n",
       "0                        0.553008              1            0   \n",
       "1                        0.188014              1            0   \n",
       "2                        0.000000              0            1   \n",
       "3                        0.000000              0            1   \n",
       "4                        0.282020              0            1   \n",
       "...                           ...            ...          ...   \n",
       "25226                    0.000000              1            0   \n",
       "25227                    0.000000              1            0   \n",
       "25228                    0.000000              1            0   \n",
       "25229                    0.000000              1            0   \n",
       "25230                    0.000000              1            0   \n",
       "\n",
       "       Customer Type_Loyal Customer  Customer Type_disloyal Customer  \\\n",
       "0                                 1                                0   \n",
       "1                                 0                                1   \n",
       "2                                 0                                1   \n",
       "3                                 0                                1   \n",
       "4                                 1                                0   \n",
       "...                             ...                              ...   \n",
       "25226                             1                                0   \n",
       "25227                             0                                1   \n",
       "25228                             0                                1   \n",
       "25229                             1                                0   \n",
       "25230                             1                                0   \n",
       "\n",
       "       Type of Travel_Business travel  Type of Travel_Personal Travel  \\\n",
       "0                                   1                               0   \n",
       "1                                   1                               0   \n",
       "2                                   1                               0   \n",
       "3                                   1                               0   \n",
       "4                                   1                               0   \n",
       "...                               ...                             ...   \n",
       "25226                               1                               0   \n",
       "25227                               1                               0   \n",
       "25228                               1                               0   \n",
       "25229                               1                               0   \n",
       "25230                               1                               0   \n",
       "\n",
       "       Class_Business  Class_Eco  Class_Eco Plus  \n",
       "0                   0          1               0  \n",
       "1                   0          1               0  \n",
       "2                   0          1               0  \n",
       "3                   0          1               0  \n",
       "4                   0          1               0  \n",
       "...               ...        ...             ...  \n",
       "25226               0          1               0  \n",
       "25227               0          1               0  \n",
       "25228               0          1               0  \n",
       "25229               0          1               0  \n",
       "25230               0          1               0  \n",
       "\n",
       "[25231 rows x 26 columns]"
      ]
     },
     "execution_count": 92,
     "metadata": {},
     "output_type": "execute_result"
    }
   ],
   "source": [
    "# use all filtered data, delete satisfaction and satisfaction label column\n",
    "sample_bus_eco = bus_eco.sample(frac=1, random_state=42)\n",
    "x_bus_eco = sample_bus_eco.drop(columns=['satisfaction', 'satisfaction_label'])\n",
    "x_bus_eco.reset_index(inplace=True, drop=True)\n",
    "x_bus_eco"
   ]
  },
  {
   "cell_type": "code",
   "execution_count": 93,
   "metadata": {},
   "outputs": [],
   "source": [
    "#seat comfort column is replaced with a rating of 4 or 5 (random)\n",
    "new_rate = np.random.choice(range(4,6), size = x_bus_eco.shape[0])\n",
    "for i in ['Seat comfort']:\n",
    "    x_bus_eco[i] = x_bus_eco[i].map(dict(zip(x_bus_eco[i].unique(), new_rate)))"
   ]
  },
  {
   "cell_type": "code",
   "execution_count": 94,
   "metadata": {},
   "outputs": [],
   "source": [
    "##data will be predict using XGBoost\n",
    "y_bus_eco = xg.predict(x_bus_eco)\n",
    "y_bus_eco = pd.DataFrame(y_bus_eco.tolist())"
   ]
  },
  {
   "cell_type": "code",
   "execution_count": 95,
   "metadata": {},
   "outputs": [],
   "source": [
    "#Predicted results are entered in satisfaction label column\n",
    "df_bus_eco = x_bus_eco.copy()\n",
    "df_bus_eco['satisfaction_label'] = y_bus_eco"
   ]
  },
  {
   "cell_type": "code",
   "execution_count": 96,
   "metadata": {},
   "outputs": [
    {
     "data": {
      "text/plain": [
       "1    21030\n",
       "0     4201\n",
       "Name: satisfaction_label, dtype: int64"
      ]
     },
     "execution_count": 96,
     "metadata": {},
     "output_type": "execute_result"
    }
   ],
   "source": [
    "#the number of dissatisfied customers which was 17726 reduced to 4201\n",
    "df_bus_eco['satisfaction_label'].value_counts()"
   ]
  },
  {
   "cell_type": "markdown",
   "metadata": {},
   "source": [
    "**variabel data that have Personal Travel- Eco Class and Business Travel - Eco class data will be deleted, then replaced with data that has been improved on 2 features. Next, delete categorical data and arrival delay as before.**"
   ]
  },
  {
   "cell_type": "code",
   "execution_count": 97,
   "metadata": {},
   "outputs": [],
   "source": [
    "#filter data personal travel - eco class and delete it, make new variabel named df_gabungan\n",
    "df_gabungan = data[~((data['Type of Travel']== 'Personal Travel') & (data['Class']== 'Eco'))]"
   ]
  },
  {
   "cell_type": "code",
   "execution_count": 98,
   "metadata": {},
   "outputs": [],
   "source": [
    "#filter data business travel - eco class and delete it, make new variabel named df_gabungan\n",
    "df_gabungan = df_gabungan[~((df_gabungan['Type of Travel']== 'Business travel') & (df_gabungan['Class']== 'Eco'))]"
   ]
  },
  {
   "cell_type": "code",
   "execution_count": 99,
   "metadata": {},
   "outputs": [],
   "source": [
    "#delete categorical data and arrival delay\n",
    "df_gabungan = df_gabungan.drop(columns=['Gender', 'Customer Type', 'Type of Travel', 'Class', 'Arrival Delay in Minutes'])"
   ]
  },
  {
   "cell_type": "code",
   "execution_count": 100,
   "metadata": {},
   "outputs": [],
   "source": [
    "#Merge data from personal travel-eco class that has been upgraded to df_gabungan and make new variable name df_compare\n",
    "df_compare = df_gabungan.append(df_pers_eco).drop(columns='satisfaction')"
   ]
  },
  {
   "cell_type": "code",
   "execution_count": 101,
   "metadata": {},
   "outputs": [],
   "source": [
    "#Merge data from business travel-eco class that has been upgraded to df_gabungan and make new variable name df_compare\n",
    "df_compare = df_compare.append(df_bus_eco)"
   ]
  },
  {
   "cell_type": "code",
   "execution_count": 131,
   "metadata": {},
   "outputs": [
    {
     "data": {
      "image/png": "[encoded data removed]",
      "text/plain": [
       "<Figure size 720x360 with 2 Axes>"
      ]
     },
     "metadata": {},
     "output_type": "display_data"
    }
   ],
   "source": [
    "#compare data_awal and df_compare to see customer satisfaction rate\n",
    "fig,ax = plt.subplots(1,2,figsize=(10,5))\n",
    "\n",
    "g = sns.countplot(data=data_awal, x='satisfaction_label',ax=ax[0], palette = 'Paired')\n",
    "ax[0].set_title('Customer Satisfaction before improvement 2 features', fontsize = 12)\n",
    "ax[0].set_yticks(range(0,100000,20000))\n",
    "ax[0].set_xlabel('Satisfaction', fontsize=12)\n",
    "ax[0].set_xticklabels(['Dissatisfied','Satisfied'], fontsize=12)\n",
    "ax[0].set_ylabel('Count', fontsize=12)\n",
    "\n",
    "for p in g.patches:\n",
    "    g.annotate(str(p.get_height())+' ('+str((p.get_height()/len(data_awal)*100).round(1))+'%)',(p.get_x()+0.1,p.get_height()+400))\n",
    "\n",
    "g = sns.countplot(data=df_compare, x='satisfaction_label',ax=ax[1], palette = 'Paired')\n",
    "ax[1].set_title('Customer Satisfaction after improvement 2 features', fontsize=12)\n",
    "ax[1].set_yticks(range(0,100000,20000))\n",
    "ax[1].set_xlabel('Satisfaction', fontsize=12)\n",
    "ax[1].set_xticklabels(['Dissatisfied','Satisfied'], fontsize=12)\n",
    "ax[1].set_ylabel('Count', fontsize=12)\n",
    "\n",
    "for p in g.patches:\n",
    "    g.annotate(str(p.get_height())+' ('+str((p.get_height()/len(df_compare)*100).round(1))+'%)',(p.get_x()+0.1,p.get_height()+400))\n",
    "\n",
    "plt.tight_layout()\n",
    "sns.despine()"
   ]
  },
  {
   "cell_type": "markdown",
   "metadata": {},
   "source": [
    "from the graph we conclude that improvement of 2 features impact on increasing customer satisfaction from **54.7%** to **67.6%**."
   ]
  },
  {
   "cell_type": "code",
   "execution_count": null,
   "metadata": {},
   "outputs": [],
   "source": []
  }
 ],
 "metadata": {
  "kernelspec": {
   "display_name": "Python 3",
   "language": "python",
   "name": "python3"
  },
  "language_info": {
   "codemirror_mode": {
    "name": "ipython",
    "version": 3
   },
   "file_extension": ".py",
   "mimetype": "text/x-python",
   "name": "python",
   "nbconvert_exporter": "python",
   "pygments_lexer": "ipython3",
   "version": "3.8.5"
  }
 },
 "nbformat": 4,
 "nbformat_minor": 4
}
